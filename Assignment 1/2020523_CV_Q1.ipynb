{
  "nbformat": 4,
  "nbformat_minor": 0,
  "metadata": {
    "colab": {
      "provenance": []
    },
    "kernelspec": {
      "name": "python3",
      "display_name": "Python 3"
    },
    "language_info": {
      "name": "python"
    },
    "widgets": {
      "application/vnd.jupyter.widget-state+json": {
        "50184f3af0194dc088935d13dc4477b0": {
          "model_module": "@jupyter-widgets/controls",
          "model_name": "HBoxModel",
          "model_module_version": "1.5.0",
          "state": {
            "_dom_classes": [],
            "_model_module": "@jupyter-widgets/controls",
            "_model_module_version": "1.5.0",
            "_model_name": "HBoxModel",
            "_view_count": null,
            "_view_module": "@jupyter-widgets/controls",
            "_view_module_version": "1.5.0",
            "_view_name": "HBoxView",
            "box_style": "",
            "children": [
              "IPY_MODEL_53930e85406441e5b3e51b22e485990a",
              "IPY_MODEL_816f4f626d7d48aeb170840fd378b8bf",
              "IPY_MODEL_c34d7f67ac2e4b20a8d21dc69c27705c"
            ],
            "layout": "IPY_MODEL_1a132e1ef44649a08726ae9bbb86d22a"
          }
        },
        "53930e85406441e5b3e51b22e485990a": {
          "model_module": "@jupyter-widgets/controls",
          "model_name": "HTMLModel",
          "model_module_version": "1.5.0",
          "state": {
            "_dom_classes": [],
            "_model_module": "@jupyter-widgets/controls",
            "_model_module_version": "1.5.0",
            "_model_name": "HTMLModel",
            "_view_count": null,
            "_view_module": "@jupyter-widgets/controls",
            "_view_module_version": "1.5.0",
            "_view_name": "HTMLView",
            "description": "",
            "description_tooltip": null,
            "layout": "IPY_MODEL_9a19adef495c44caa187c52db0e6ebbe",
            "placeholder": "​",
            "style": "IPY_MODEL_b3bed0f6eff24654ab64d30b08b79813",
            "value": "100%"
          }
        },
        "816f4f626d7d48aeb170840fd378b8bf": {
          "model_module": "@jupyter-widgets/controls",
          "model_name": "FloatProgressModel",
          "model_module_version": "1.5.0",
          "state": {
            "_dom_classes": [],
            "_model_module": "@jupyter-widgets/controls",
            "_model_module_version": "1.5.0",
            "_model_name": "FloatProgressModel",
            "_view_count": null,
            "_view_module": "@jupyter-widgets/controls",
            "_view_module_version": "1.5.0",
            "_view_name": "ProgressView",
            "bar_style": "success",
            "description": "",
            "description_tooltip": null,
            "layout": "IPY_MODEL_3ffdf8edab2b460eb25ad0a23e6738ca",
            "max": 182040794,
            "min": 0,
            "orientation": "horizontal",
            "style": "IPY_MODEL_aff67dcd66084c92a051f7509dcd98da",
            "value": 182040794
          }
        },
        "c34d7f67ac2e4b20a8d21dc69c27705c": {
          "model_module": "@jupyter-widgets/controls",
          "model_name": "HTMLModel",
          "model_module_version": "1.5.0",
          "state": {
            "_dom_classes": [],
            "_model_module": "@jupyter-widgets/controls",
            "_model_module_version": "1.5.0",
            "_model_name": "HTMLModel",
            "_view_count": null,
            "_view_module": "@jupyter-widgets/controls",
            "_view_module_version": "1.5.0",
            "_view_name": "HTMLView",
            "description": "",
            "description_tooltip": null,
            "layout": "IPY_MODEL_96596d74fa2845ddbca12571598bda03",
            "placeholder": "​",
            "style": "IPY_MODEL_1856157ecb4e44b6ad9cb96a8f9ed623",
            "value": " 182040794/182040794 [00:15&lt;00:00, 17328179.50it/s]"
          }
        },
        "1a132e1ef44649a08726ae9bbb86d22a": {
          "model_module": "@jupyter-widgets/base",
          "model_name": "LayoutModel",
          "model_module_version": "1.2.0",
          "state": {
            "_model_module": "@jupyter-widgets/base",
            "_model_module_version": "1.2.0",
            "_model_name": "LayoutModel",
            "_view_count": null,
            "_view_module": "@jupyter-widgets/base",
            "_view_module_version": "1.2.0",
            "_view_name": "LayoutView",
            "align_content": null,
            "align_items": null,
            "align_self": null,
            "border": null,
            "bottom": null,
            "display": null,
            "flex": null,
            "flex_flow": null,
            "grid_area": null,
            "grid_auto_columns": null,
            "grid_auto_flow": null,
            "grid_auto_rows": null,
            "grid_column": null,
            "grid_gap": null,
            "grid_row": null,
            "grid_template_areas": null,
            "grid_template_columns": null,
            "grid_template_rows": null,
            "height": null,
            "justify_content": null,
            "justify_items": null,
            "left": null,
            "margin": null,
            "max_height": null,
            "max_width": null,
            "min_height": null,
            "min_width": null,
            "object_fit": null,
            "object_position": null,
            "order": null,
            "overflow": null,
            "overflow_x": null,
            "overflow_y": null,
            "padding": null,
            "right": null,
            "top": null,
            "visibility": null,
            "width": null
          }
        },
        "9a19adef495c44caa187c52db0e6ebbe": {
          "model_module": "@jupyter-widgets/base",
          "model_name": "LayoutModel",
          "model_module_version": "1.2.0",
          "state": {
            "_model_module": "@jupyter-widgets/base",
            "_model_module_version": "1.2.0",
            "_model_name": "LayoutModel",
            "_view_count": null,
            "_view_module": "@jupyter-widgets/base",
            "_view_module_version": "1.2.0",
            "_view_name": "LayoutView",
            "align_content": null,
            "align_items": null,
            "align_self": null,
            "border": null,
            "bottom": null,
            "display": null,
            "flex": null,
            "flex_flow": null,
            "grid_area": null,
            "grid_auto_columns": null,
            "grid_auto_flow": null,
            "grid_auto_rows": null,
            "grid_column": null,
            "grid_gap": null,
            "grid_row": null,
            "grid_template_areas": null,
            "grid_template_columns": null,
            "grid_template_rows": null,
            "height": null,
            "justify_content": null,
            "justify_items": null,
            "left": null,
            "margin": null,
            "max_height": null,
            "max_width": null,
            "min_height": null,
            "min_width": null,
            "object_fit": null,
            "object_position": null,
            "order": null,
            "overflow": null,
            "overflow_x": null,
            "overflow_y": null,
            "padding": null,
            "right": null,
            "top": null,
            "visibility": null,
            "width": null
          }
        },
        "b3bed0f6eff24654ab64d30b08b79813": {
          "model_module": "@jupyter-widgets/controls",
          "model_name": "DescriptionStyleModel",
          "model_module_version": "1.5.0",
          "state": {
            "_model_module": "@jupyter-widgets/controls",
            "_model_module_version": "1.5.0",
            "_model_name": "DescriptionStyleModel",
            "_view_count": null,
            "_view_module": "@jupyter-widgets/base",
            "_view_module_version": "1.2.0",
            "_view_name": "StyleView",
            "description_width": ""
          }
        },
        "3ffdf8edab2b460eb25ad0a23e6738ca": {
          "model_module": "@jupyter-widgets/base",
          "model_name": "LayoutModel",
          "model_module_version": "1.2.0",
          "state": {
            "_model_module": "@jupyter-widgets/base",
            "_model_module_version": "1.2.0",
            "_model_name": "LayoutModel",
            "_view_count": null,
            "_view_module": "@jupyter-widgets/base",
            "_view_module_version": "1.2.0",
            "_view_name": "LayoutView",
            "align_content": null,
            "align_items": null,
            "align_self": null,
            "border": null,
            "bottom": null,
            "display": null,
            "flex": null,
            "flex_flow": null,
            "grid_area": null,
            "grid_auto_columns": null,
            "grid_auto_flow": null,
            "grid_auto_rows": null,
            "grid_column": null,
            "grid_gap": null,
            "grid_row": null,
            "grid_template_areas": null,
            "grid_template_columns": null,
            "grid_template_rows": null,
            "height": null,
            "justify_content": null,
            "justify_items": null,
            "left": null,
            "margin": null,
            "max_height": null,
            "max_width": null,
            "min_height": null,
            "min_width": null,
            "object_fit": null,
            "object_position": null,
            "order": null,
            "overflow": null,
            "overflow_x": null,
            "overflow_y": null,
            "padding": null,
            "right": null,
            "top": null,
            "visibility": null,
            "width": null
          }
        },
        "aff67dcd66084c92a051f7509dcd98da": {
          "model_module": "@jupyter-widgets/controls",
          "model_name": "ProgressStyleModel",
          "model_module_version": "1.5.0",
          "state": {
            "_model_module": "@jupyter-widgets/controls",
            "_model_module_version": "1.5.0",
            "_model_name": "ProgressStyleModel",
            "_view_count": null,
            "_view_module": "@jupyter-widgets/base",
            "_view_module_version": "1.2.0",
            "_view_name": "StyleView",
            "bar_color": null,
            "description_width": ""
          }
        },
        "96596d74fa2845ddbca12571598bda03": {
          "model_module": "@jupyter-widgets/base",
          "model_name": "LayoutModel",
          "model_module_version": "1.2.0",
          "state": {
            "_model_module": "@jupyter-widgets/base",
            "_model_module_version": "1.2.0",
            "_model_name": "LayoutModel",
            "_view_count": null,
            "_view_module": "@jupyter-widgets/base",
            "_view_module_version": "1.2.0",
            "_view_name": "LayoutView",
            "align_content": null,
            "align_items": null,
            "align_self": null,
            "border": null,
            "bottom": null,
            "display": null,
            "flex": null,
            "flex_flow": null,
            "grid_area": null,
            "grid_auto_columns": null,
            "grid_auto_flow": null,
            "grid_auto_rows": null,
            "grid_column": null,
            "grid_gap": null,
            "grid_row": null,
            "grid_template_areas": null,
            "grid_template_columns": null,
            "grid_template_rows": null,
            "height": null,
            "justify_content": null,
            "justify_items": null,
            "left": null,
            "margin": null,
            "max_height": null,
            "max_width": null,
            "min_height": null,
            "min_width": null,
            "object_fit": null,
            "object_position": null,
            "order": null,
            "overflow": null,
            "overflow_x": null,
            "overflow_y": null,
            "padding": null,
            "right": null,
            "top": null,
            "visibility": null,
            "width": null
          }
        },
        "1856157ecb4e44b6ad9cb96a8f9ed623": {
          "model_module": "@jupyter-widgets/controls",
          "model_name": "DescriptionStyleModel",
          "model_module_version": "1.5.0",
          "state": {
            "_model_module": "@jupyter-widgets/controls",
            "_model_module_version": "1.5.0",
            "_model_name": "DescriptionStyleModel",
            "_view_count": null,
            "_view_module": "@jupyter-widgets/base",
            "_view_module_version": "1.2.0",
            "_view_name": "StyleView",
            "description_width": ""
          }
        },
        "f340e38ab4ff49fd86f598172c47f4f4": {
          "model_module": "@jupyter-widgets/controls",
          "model_name": "HBoxModel",
          "model_module_version": "1.5.0",
          "state": {
            "_dom_classes": [],
            "_model_module": "@jupyter-widgets/controls",
            "_model_module_version": "1.5.0",
            "_model_name": "HBoxModel",
            "_view_count": null,
            "_view_module": "@jupyter-widgets/controls",
            "_view_module_version": "1.5.0",
            "_view_name": "HBoxView",
            "box_style": "",
            "children": [
              "IPY_MODEL_3d762c750a954a5bbef5b3a9beac80e5",
              "IPY_MODEL_d5acb0d854344f6895e8a8c4854a79b6",
              "IPY_MODEL_c4fa7d2cbabf4f5ca3c1d9c7478ac560"
            ],
            "layout": "IPY_MODEL_1ebef37a05ba4ca88927af927f962a67"
          }
        },
        "3d762c750a954a5bbef5b3a9beac80e5": {
          "model_module": "@jupyter-widgets/controls",
          "model_name": "HTMLModel",
          "model_module_version": "1.5.0",
          "state": {
            "_dom_classes": [],
            "_model_module": "@jupyter-widgets/controls",
            "_model_module_version": "1.5.0",
            "_model_name": "HTMLModel",
            "_view_count": null,
            "_view_module": "@jupyter-widgets/controls",
            "_view_module_version": "1.5.0",
            "_view_name": "HTMLView",
            "description": "",
            "description_tooltip": null,
            "layout": "IPY_MODEL_c690b3fc3f4a400381efddbadb5b9045",
            "placeholder": "​",
            "style": "IPY_MODEL_c6a0aa9ee30f49b483e1488622b0706f",
            "value": "100%"
          }
        },
        "d5acb0d854344f6895e8a8c4854a79b6": {
          "model_module": "@jupyter-widgets/controls",
          "model_name": "FloatProgressModel",
          "model_module_version": "1.5.0",
          "state": {
            "_dom_classes": [],
            "_model_module": "@jupyter-widgets/controls",
            "_model_module_version": "1.5.0",
            "_model_name": "FloatProgressModel",
            "_view_count": null,
            "_view_module": "@jupyter-widgets/controls",
            "_view_module_version": "1.5.0",
            "_view_name": "ProgressView",
            "bar_style": "success",
            "description": "",
            "description_tooltip": null,
            "layout": "IPY_MODEL_a0bc6eedc28643d594b234fe80b5290a",
            "max": 64275384,
            "min": 0,
            "orientation": "horizontal",
            "style": "IPY_MODEL_e5e9c93138e648a7a646d4c66f25bc21",
            "value": 64275384
          }
        },
        "c4fa7d2cbabf4f5ca3c1d9c7478ac560": {
          "model_module": "@jupyter-widgets/controls",
          "model_name": "HTMLModel",
          "model_module_version": "1.5.0",
          "state": {
            "_dom_classes": [],
            "_model_module": "@jupyter-widgets/controls",
            "_model_module_version": "1.5.0",
            "_model_name": "HTMLModel",
            "_view_count": null,
            "_view_module": "@jupyter-widgets/controls",
            "_view_module_version": "1.5.0",
            "_view_name": "HTMLView",
            "description": "",
            "description_tooltip": null,
            "layout": "IPY_MODEL_896b393a69bd4b929e6e83fda60af4f2",
            "placeholder": "​",
            "style": "IPY_MODEL_e3d33a5d0e234bf0b14159ef3f788eda",
            "value": " 64275384/64275384 [00:07&lt;00:00, 17168527.25it/s]"
          }
        },
        "1ebef37a05ba4ca88927af927f962a67": {
          "model_module": "@jupyter-widgets/base",
          "model_name": "LayoutModel",
          "model_module_version": "1.2.0",
          "state": {
            "_model_module": "@jupyter-widgets/base",
            "_model_module_version": "1.2.0",
            "_model_name": "LayoutModel",
            "_view_count": null,
            "_view_module": "@jupyter-widgets/base",
            "_view_module_version": "1.2.0",
            "_view_name": "LayoutView",
            "align_content": null,
            "align_items": null,
            "align_self": null,
            "border": null,
            "bottom": null,
            "display": null,
            "flex": null,
            "flex_flow": null,
            "grid_area": null,
            "grid_auto_columns": null,
            "grid_auto_flow": null,
            "grid_auto_rows": null,
            "grid_column": null,
            "grid_gap": null,
            "grid_row": null,
            "grid_template_areas": null,
            "grid_template_columns": null,
            "grid_template_rows": null,
            "height": null,
            "justify_content": null,
            "justify_items": null,
            "left": null,
            "margin": null,
            "max_height": null,
            "max_width": null,
            "min_height": null,
            "min_width": null,
            "object_fit": null,
            "object_position": null,
            "order": null,
            "overflow": null,
            "overflow_x": null,
            "overflow_y": null,
            "padding": null,
            "right": null,
            "top": null,
            "visibility": null,
            "width": null
          }
        },
        "c690b3fc3f4a400381efddbadb5b9045": {
          "model_module": "@jupyter-widgets/base",
          "model_name": "LayoutModel",
          "model_module_version": "1.2.0",
          "state": {
            "_model_module": "@jupyter-widgets/base",
            "_model_module_version": "1.2.0",
            "_model_name": "LayoutModel",
            "_view_count": null,
            "_view_module": "@jupyter-widgets/base",
            "_view_module_version": "1.2.0",
            "_view_name": "LayoutView",
            "align_content": null,
            "align_items": null,
            "align_self": null,
            "border": null,
            "bottom": null,
            "display": null,
            "flex": null,
            "flex_flow": null,
            "grid_area": null,
            "grid_auto_columns": null,
            "grid_auto_flow": null,
            "grid_auto_rows": null,
            "grid_column": null,
            "grid_gap": null,
            "grid_row": null,
            "grid_template_areas": null,
            "grid_template_columns": null,
            "grid_template_rows": null,
            "height": null,
            "justify_content": null,
            "justify_items": null,
            "left": null,
            "margin": null,
            "max_height": null,
            "max_width": null,
            "min_height": null,
            "min_width": null,
            "object_fit": null,
            "object_position": null,
            "order": null,
            "overflow": null,
            "overflow_x": null,
            "overflow_y": null,
            "padding": null,
            "right": null,
            "top": null,
            "visibility": null,
            "width": null
          }
        },
        "c6a0aa9ee30f49b483e1488622b0706f": {
          "model_module": "@jupyter-widgets/controls",
          "model_name": "DescriptionStyleModel",
          "model_module_version": "1.5.0",
          "state": {
            "_model_module": "@jupyter-widgets/controls",
            "_model_module_version": "1.5.0",
            "_model_name": "DescriptionStyleModel",
            "_view_count": null,
            "_view_module": "@jupyter-widgets/base",
            "_view_module_version": "1.2.0",
            "_view_name": "StyleView",
            "description_width": ""
          }
        },
        "a0bc6eedc28643d594b234fe80b5290a": {
          "model_module": "@jupyter-widgets/base",
          "model_name": "LayoutModel",
          "model_module_version": "1.2.0",
          "state": {
            "_model_module": "@jupyter-widgets/base",
            "_model_module_version": "1.2.0",
            "_model_name": "LayoutModel",
            "_view_count": null,
            "_view_module": "@jupyter-widgets/base",
            "_view_module_version": "1.2.0",
            "_view_name": "LayoutView",
            "align_content": null,
            "align_items": null,
            "align_self": null,
            "border": null,
            "bottom": null,
            "display": null,
            "flex": null,
            "flex_flow": null,
            "grid_area": null,
            "grid_auto_columns": null,
            "grid_auto_flow": null,
            "grid_auto_rows": null,
            "grid_column": null,
            "grid_gap": null,
            "grid_row": null,
            "grid_template_areas": null,
            "grid_template_columns": null,
            "grid_template_rows": null,
            "height": null,
            "justify_content": null,
            "justify_items": null,
            "left": null,
            "margin": null,
            "max_height": null,
            "max_width": null,
            "min_height": null,
            "min_width": null,
            "object_fit": null,
            "object_position": null,
            "order": null,
            "overflow": null,
            "overflow_x": null,
            "overflow_y": null,
            "padding": null,
            "right": null,
            "top": null,
            "visibility": null,
            "width": null
          }
        },
        "e5e9c93138e648a7a646d4c66f25bc21": {
          "model_module": "@jupyter-widgets/controls",
          "model_name": "ProgressStyleModel",
          "model_module_version": "1.5.0",
          "state": {
            "_model_module": "@jupyter-widgets/controls",
            "_model_module_version": "1.5.0",
            "_model_name": "ProgressStyleModel",
            "_view_count": null,
            "_view_module": "@jupyter-widgets/base",
            "_view_module_version": "1.2.0",
            "_view_name": "StyleView",
            "bar_color": null,
            "description_width": ""
          }
        },
        "896b393a69bd4b929e6e83fda60af4f2": {
          "model_module": "@jupyter-widgets/base",
          "model_name": "LayoutModel",
          "model_module_version": "1.2.0",
          "state": {
            "_model_module": "@jupyter-widgets/base",
            "_model_module_version": "1.2.0",
            "_model_name": "LayoutModel",
            "_view_count": null,
            "_view_module": "@jupyter-widgets/base",
            "_view_module_version": "1.2.0",
            "_view_name": "LayoutView",
            "align_content": null,
            "align_items": null,
            "align_self": null,
            "border": null,
            "bottom": null,
            "display": null,
            "flex": null,
            "flex_flow": null,
            "grid_area": null,
            "grid_auto_columns": null,
            "grid_auto_flow": null,
            "grid_auto_rows": null,
            "grid_column": null,
            "grid_gap": null,
            "grid_row": null,
            "grid_template_areas": null,
            "grid_template_columns": null,
            "grid_template_rows": null,
            "height": null,
            "justify_content": null,
            "justify_items": null,
            "left": null,
            "margin": null,
            "max_height": null,
            "max_width": null,
            "min_height": null,
            "min_width": null,
            "object_fit": null,
            "object_position": null,
            "order": null,
            "overflow": null,
            "overflow_x": null,
            "overflow_y": null,
            "padding": null,
            "right": null,
            "top": null,
            "visibility": null,
            "width": null
          }
        },
        "e3d33a5d0e234bf0b14159ef3f788eda": {
          "model_module": "@jupyter-widgets/controls",
          "model_name": "DescriptionStyleModel",
          "model_module_version": "1.5.0",
          "state": {
            "_model_module": "@jupyter-widgets/controls",
            "_model_module_version": "1.5.0",
            "_model_name": "DescriptionStyleModel",
            "_view_count": null,
            "_view_module": "@jupyter-widgets/base",
            "_view_module_version": "1.2.0",
            "_view_name": "StyleView",
            "description_width": ""
          }
        },
        "2d29cc3e9c6f433bbd6b9d6b2684c169": {
          "model_module": "@jupyter-widgets/controls",
          "model_name": "HBoxModel",
          "model_module_version": "1.5.0",
          "state": {
            "_dom_classes": [],
            "_model_module": "@jupyter-widgets/controls",
            "_model_module_version": "1.5.0",
            "_model_name": "HBoxModel",
            "_view_count": null,
            "_view_module": "@jupyter-widgets/controls",
            "_view_module_version": "1.5.0",
            "_view_name": "HBoxView",
            "box_style": "",
            "children": [
              "IPY_MODEL_b23ead5e3c2e4cc386baf52143d59a1d",
              "IPY_MODEL_f3c0bc46d36d4206aec41f1cca18d8e2",
              "IPY_MODEL_ffb31332eb6a47fa98b01a80c9305ccb"
            ],
            "layout": "IPY_MODEL_d03a4f5f52494d0db0c4a3cccef58def"
          }
        },
        "b23ead5e3c2e4cc386baf52143d59a1d": {
          "model_module": "@jupyter-widgets/controls",
          "model_name": "HTMLModel",
          "model_module_version": "1.5.0",
          "state": {
            "_dom_classes": [],
            "_model_module": "@jupyter-widgets/controls",
            "_model_module_version": "1.5.0",
            "_model_name": "HTMLModel",
            "_view_count": null,
            "_view_module": "@jupyter-widgets/controls",
            "_view_module_version": "1.5.0",
            "_view_name": "HTMLView",
            "description": "",
            "description_tooltip": null,
            "layout": "IPY_MODEL_131a226c6e834cda8f5fc54b2f35e884",
            "placeholder": "​",
            "style": "IPY_MODEL_0728ec57338a448aa8e9047ed285edc5",
            "value": "100%"
          }
        },
        "f3c0bc46d36d4206aec41f1cca18d8e2": {
          "model_module": "@jupyter-widgets/controls",
          "model_name": "FloatProgressModel",
          "model_module_version": "1.5.0",
          "state": {
            "_dom_classes": [],
            "_model_module": "@jupyter-widgets/controls",
            "_model_module_version": "1.5.0",
            "_model_name": "FloatProgressModel",
            "_view_count": null,
            "_view_module": "@jupyter-widgets/controls",
            "_view_module_version": "1.5.0",
            "_view_name": "ProgressView",
            "bar_style": "success",
            "description": "",
            "description_tooltip": null,
            "layout": "IPY_MODEL_b6b37c90f4a34883a0b7ef5ef77a5287",
            "max": 1329278602,
            "min": 0,
            "orientation": "horizontal",
            "style": "IPY_MODEL_e5286ecef06d4d57826d624d855f2add",
            "value": 1329278602
          }
        },
        "ffb31332eb6a47fa98b01a80c9305ccb": {
          "model_module": "@jupyter-widgets/controls",
          "model_name": "HTMLModel",
          "model_module_version": "1.5.0",
          "state": {
            "_dom_classes": [],
            "_model_module": "@jupyter-widgets/controls",
            "_model_module_version": "1.5.0",
            "_model_name": "HTMLModel",
            "_view_count": null,
            "_view_module": "@jupyter-widgets/controls",
            "_view_module_version": "1.5.0",
            "_view_name": "HTMLView",
            "description": "",
            "description_tooltip": null,
            "layout": "IPY_MODEL_f5c52faaa5ae4a48aea58a2cc5b74201",
            "placeholder": "​",
            "style": "IPY_MODEL_a46ab0d54485422291f6990771f582ca",
            "value": " 1329278602/1329278602 [01:25&lt;00:00, 15691759.96it/s]"
          }
        },
        "d03a4f5f52494d0db0c4a3cccef58def": {
          "model_module": "@jupyter-widgets/base",
          "model_name": "LayoutModel",
          "model_module_version": "1.2.0",
          "state": {
            "_model_module": "@jupyter-widgets/base",
            "_model_module_version": "1.2.0",
            "_model_name": "LayoutModel",
            "_view_count": null,
            "_view_module": "@jupyter-widgets/base",
            "_view_module_version": "1.2.0",
            "_view_name": "LayoutView",
            "align_content": null,
            "align_items": null,
            "align_self": null,
            "border": null,
            "bottom": null,
            "display": null,
            "flex": null,
            "flex_flow": null,
            "grid_area": null,
            "grid_auto_columns": null,
            "grid_auto_flow": null,
            "grid_auto_rows": null,
            "grid_column": null,
            "grid_gap": null,
            "grid_row": null,
            "grid_template_areas": null,
            "grid_template_columns": null,
            "grid_template_rows": null,
            "height": null,
            "justify_content": null,
            "justify_items": null,
            "left": null,
            "margin": null,
            "max_height": null,
            "max_width": null,
            "min_height": null,
            "min_width": null,
            "object_fit": null,
            "object_position": null,
            "order": null,
            "overflow": null,
            "overflow_x": null,
            "overflow_y": null,
            "padding": null,
            "right": null,
            "top": null,
            "visibility": null,
            "width": null
          }
        },
        "131a226c6e834cda8f5fc54b2f35e884": {
          "model_module": "@jupyter-widgets/base",
          "model_name": "LayoutModel",
          "model_module_version": "1.2.0",
          "state": {
            "_model_module": "@jupyter-widgets/base",
            "_model_module_version": "1.2.0",
            "_model_name": "LayoutModel",
            "_view_count": null,
            "_view_module": "@jupyter-widgets/base",
            "_view_module_version": "1.2.0",
            "_view_name": "LayoutView",
            "align_content": null,
            "align_items": null,
            "align_self": null,
            "border": null,
            "bottom": null,
            "display": null,
            "flex": null,
            "flex_flow": null,
            "grid_area": null,
            "grid_auto_columns": null,
            "grid_auto_flow": null,
            "grid_auto_rows": null,
            "grid_column": null,
            "grid_gap": null,
            "grid_row": null,
            "grid_template_areas": null,
            "grid_template_columns": null,
            "grid_template_rows": null,
            "height": null,
            "justify_content": null,
            "justify_items": null,
            "left": null,
            "margin": null,
            "max_height": null,
            "max_width": null,
            "min_height": null,
            "min_width": null,
            "object_fit": null,
            "object_position": null,
            "order": null,
            "overflow": null,
            "overflow_x": null,
            "overflow_y": null,
            "padding": null,
            "right": null,
            "top": null,
            "visibility": null,
            "width": null
          }
        },
        "0728ec57338a448aa8e9047ed285edc5": {
          "model_module": "@jupyter-widgets/controls",
          "model_name": "DescriptionStyleModel",
          "model_module_version": "1.5.0",
          "state": {
            "_model_module": "@jupyter-widgets/controls",
            "_model_module_version": "1.5.0",
            "_model_name": "DescriptionStyleModel",
            "_view_count": null,
            "_view_module": "@jupyter-widgets/base",
            "_view_module_version": "1.2.0",
            "_view_name": "StyleView",
            "description_width": ""
          }
        },
        "b6b37c90f4a34883a0b7ef5ef77a5287": {
          "model_module": "@jupyter-widgets/base",
          "model_name": "LayoutModel",
          "model_module_version": "1.2.0",
          "state": {
            "_model_module": "@jupyter-widgets/base",
            "_model_module_version": "1.2.0",
            "_model_name": "LayoutModel",
            "_view_count": null,
            "_view_module": "@jupyter-widgets/base",
            "_view_module_version": "1.2.0",
            "_view_name": "LayoutView",
            "align_content": null,
            "align_items": null,
            "align_self": null,
            "border": null,
            "bottom": null,
            "display": null,
            "flex": null,
            "flex_flow": null,
            "grid_area": null,
            "grid_auto_columns": null,
            "grid_auto_flow": null,
            "grid_auto_rows": null,
            "grid_column": null,
            "grid_gap": null,
            "grid_row": null,
            "grid_template_areas": null,
            "grid_template_columns": null,
            "grid_template_rows": null,
            "height": null,
            "justify_content": null,
            "justify_items": null,
            "left": null,
            "margin": null,
            "max_height": null,
            "max_width": null,
            "min_height": null,
            "min_width": null,
            "object_fit": null,
            "object_position": null,
            "order": null,
            "overflow": null,
            "overflow_x": null,
            "overflow_y": null,
            "padding": null,
            "right": null,
            "top": null,
            "visibility": null,
            "width": null
          }
        },
        "e5286ecef06d4d57826d624d855f2add": {
          "model_module": "@jupyter-widgets/controls",
          "model_name": "ProgressStyleModel",
          "model_module_version": "1.5.0",
          "state": {
            "_model_module": "@jupyter-widgets/controls",
            "_model_module_version": "1.5.0",
            "_model_name": "ProgressStyleModel",
            "_view_count": null,
            "_view_module": "@jupyter-widgets/base",
            "_view_module_version": "1.2.0",
            "_view_name": "StyleView",
            "bar_color": null,
            "description_width": ""
          }
        },
        "f5c52faaa5ae4a48aea58a2cc5b74201": {
          "model_module": "@jupyter-widgets/base",
          "model_name": "LayoutModel",
          "model_module_version": "1.2.0",
          "state": {
            "_model_module": "@jupyter-widgets/base",
            "_model_module_version": "1.2.0",
            "_model_name": "LayoutModel",
            "_view_count": null,
            "_view_module": "@jupyter-widgets/base",
            "_view_module_version": "1.2.0",
            "_view_name": "LayoutView",
            "align_content": null,
            "align_items": null,
            "align_self": null,
            "border": null,
            "bottom": null,
            "display": null,
            "flex": null,
            "flex_flow": null,
            "grid_area": null,
            "grid_auto_columns": null,
            "grid_auto_flow": null,
            "grid_auto_rows": null,
            "grid_column": null,
            "grid_gap": null,
            "grid_row": null,
            "grid_template_areas": null,
            "grid_template_columns": null,
            "grid_template_rows": null,
            "height": null,
            "justify_content": null,
            "justify_items": null,
            "left": null,
            "margin": null,
            "max_height": null,
            "max_width": null,
            "min_height": null,
            "min_width": null,
            "object_fit": null,
            "object_position": null,
            "order": null,
            "overflow": null,
            "overflow_x": null,
            "overflow_y": null,
            "padding": null,
            "right": null,
            "top": null,
            "visibility": null,
            "width": null
          }
        },
        "a46ab0d54485422291f6990771f582ca": {
          "model_module": "@jupyter-widgets/controls",
          "model_name": "DescriptionStyleModel",
          "model_module_version": "1.5.0",
          "state": {
            "_model_module": "@jupyter-widgets/controls",
            "_model_module_version": "1.5.0",
            "_model_name": "DescriptionStyleModel",
            "_view_count": null,
            "_view_module": "@jupyter-widgets/base",
            "_view_module_version": "1.2.0",
            "_view_name": "StyleView",
            "description_width": ""
          }
        },
        "e883f6d06c3e46a6854eeff954d4f82f": {
          "model_module": "@jupyter-widgets/controls",
          "model_name": "VBoxModel",
          "model_module_version": "1.5.0",
          "state": {
            "_dom_classes": [],
            "_model_module": "@jupyter-widgets/controls",
            "_model_module_version": "1.5.0",
            "_model_name": "VBoxModel",
            "_view_count": null,
            "_view_module": "@jupyter-widgets/controls",
            "_view_module_version": "1.5.0",
            "_view_name": "VBoxView",
            "box_style": "",
            "children": [
              "IPY_MODEL_f9f16a255dcd4f1685ea4167e6b0b0f7",
              "IPY_MODEL_68be14e067d148d38e06f2f6763e23af"
            ],
            "layout": "IPY_MODEL_cf17477120e04530b82852c7f9fe1449"
          }
        },
        "f9f16a255dcd4f1685ea4167e6b0b0f7": {
          "model_module": "@jupyter-widgets/controls",
          "model_name": "LabelModel",
          "model_module_version": "1.5.0",
          "state": {
            "_dom_classes": [],
            "_model_module": "@jupyter-widgets/controls",
            "_model_module_version": "1.5.0",
            "_model_name": "LabelModel",
            "_view_count": null,
            "_view_module": "@jupyter-widgets/controls",
            "_view_module_version": "1.5.0",
            "_view_name": "LabelView",
            "description": "",
            "description_tooltip": null,
            "layout": "IPY_MODEL_a050694bdad0435b8676ae735097ef59",
            "placeholder": "​",
            "style": "IPY_MODEL_921ca7baa83c47dc80b90e9a3d7dae85",
            "value": "0.012 MB of 0.012 MB uploaded (0.000 MB deduped)\r"
          }
        },
        "68be14e067d148d38e06f2f6763e23af": {
          "model_module": "@jupyter-widgets/controls",
          "model_name": "FloatProgressModel",
          "model_module_version": "1.5.0",
          "state": {
            "_dom_classes": [],
            "_model_module": "@jupyter-widgets/controls",
            "_model_module_version": "1.5.0",
            "_model_name": "FloatProgressModel",
            "_view_count": null,
            "_view_module": "@jupyter-widgets/controls",
            "_view_module_version": "1.5.0",
            "_view_name": "ProgressView",
            "bar_style": "",
            "description": "",
            "description_tooltip": null,
            "layout": "IPY_MODEL_90529be82a19424ca19b76d74e24f56d",
            "max": 1,
            "min": 0,
            "orientation": "horizontal",
            "style": "IPY_MODEL_254b14e576954042bd95ead2f9f72b74",
            "value": 1
          }
        },
        "cf17477120e04530b82852c7f9fe1449": {
          "model_module": "@jupyter-widgets/base",
          "model_name": "LayoutModel",
          "model_module_version": "1.2.0",
          "state": {
            "_model_module": "@jupyter-widgets/base",
            "_model_module_version": "1.2.0",
            "_model_name": "LayoutModel",
            "_view_count": null,
            "_view_module": "@jupyter-widgets/base",
            "_view_module_version": "1.2.0",
            "_view_name": "LayoutView",
            "align_content": null,
            "align_items": null,
            "align_self": null,
            "border": null,
            "bottom": null,
            "display": null,
            "flex": null,
            "flex_flow": null,
            "grid_area": null,
            "grid_auto_columns": null,
            "grid_auto_flow": null,
            "grid_auto_rows": null,
            "grid_column": null,
            "grid_gap": null,
            "grid_row": null,
            "grid_template_areas": null,
            "grid_template_columns": null,
            "grid_template_rows": null,
            "height": null,
            "justify_content": null,
            "justify_items": null,
            "left": null,
            "margin": null,
            "max_height": null,
            "max_width": null,
            "min_height": null,
            "min_width": null,
            "object_fit": null,
            "object_position": null,
            "order": null,
            "overflow": null,
            "overflow_x": null,
            "overflow_y": null,
            "padding": null,
            "right": null,
            "top": null,
            "visibility": null,
            "width": null
          }
        },
        "a050694bdad0435b8676ae735097ef59": {
          "model_module": "@jupyter-widgets/base",
          "model_name": "LayoutModel",
          "model_module_version": "1.2.0",
          "state": {
            "_model_module": "@jupyter-widgets/base",
            "_model_module_version": "1.2.0",
            "_model_name": "LayoutModel",
            "_view_count": null,
            "_view_module": "@jupyter-widgets/base",
            "_view_module_version": "1.2.0",
            "_view_name": "LayoutView",
            "align_content": null,
            "align_items": null,
            "align_self": null,
            "border": null,
            "bottom": null,
            "display": null,
            "flex": null,
            "flex_flow": null,
            "grid_area": null,
            "grid_auto_columns": null,
            "grid_auto_flow": null,
            "grid_auto_rows": null,
            "grid_column": null,
            "grid_gap": null,
            "grid_row": null,
            "grid_template_areas": null,
            "grid_template_columns": null,
            "grid_template_rows": null,
            "height": null,
            "justify_content": null,
            "justify_items": null,
            "left": null,
            "margin": null,
            "max_height": null,
            "max_width": null,
            "min_height": null,
            "min_width": null,
            "object_fit": null,
            "object_position": null,
            "order": null,
            "overflow": null,
            "overflow_x": null,
            "overflow_y": null,
            "padding": null,
            "right": null,
            "top": null,
            "visibility": null,
            "width": null
          }
        },
        "921ca7baa83c47dc80b90e9a3d7dae85": {
          "model_module": "@jupyter-widgets/controls",
          "model_name": "DescriptionStyleModel",
          "model_module_version": "1.5.0",
          "state": {
            "_model_module": "@jupyter-widgets/controls",
            "_model_module_version": "1.5.0",
            "_model_name": "DescriptionStyleModel",
            "_view_count": null,
            "_view_module": "@jupyter-widgets/base",
            "_view_module_version": "1.2.0",
            "_view_name": "StyleView",
            "description_width": ""
          }
        },
        "90529be82a19424ca19b76d74e24f56d": {
          "model_module": "@jupyter-widgets/base",
          "model_name": "LayoutModel",
          "model_module_version": "1.2.0",
          "state": {
            "_model_module": "@jupyter-widgets/base",
            "_model_module_version": "1.2.0",
            "_model_name": "LayoutModel",
            "_view_count": null,
            "_view_module": "@jupyter-widgets/base",
            "_view_module_version": "1.2.0",
            "_view_name": "LayoutView",
            "align_content": null,
            "align_items": null,
            "align_self": null,
            "border": null,
            "bottom": null,
            "display": null,
            "flex": null,
            "flex_flow": null,
            "grid_area": null,
            "grid_auto_columns": null,
            "grid_auto_flow": null,
            "grid_auto_rows": null,
            "grid_column": null,
            "grid_gap": null,
            "grid_row": null,
            "grid_template_areas": null,
            "grid_template_columns": null,
            "grid_template_rows": null,
            "height": null,
            "justify_content": null,
            "justify_items": null,
            "left": null,
            "margin": null,
            "max_height": null,
            "max_width": null,
            "min_height": null,
            "min_width": null,
            "object_fit": null,
            "object_position": null,
            "order": null,
            "overflow": null,
            "overflow_x": null,
            "overflow_y": null,
            "padding": null,
            "right": null,
            "top": null,
            "visibility": null,
            "width": null
          }
        },
        "254b14e576954042bd95ead2f9f72b74": {
          "model_module": "@jupyter-widgets/controls",
          "model_name": "ProgressStyleModel",
          "model_module_version": "1.5.0",
          "state": {
            "_model_module": "@jupyter-widgets/controls",
            "_model_module_version": "1.5.0",
            "_model_name": "ProgressStyleModel",
            "_view_count": null,
            "_view_module": "@jupyter-widgets/base",
            "_view_module_version": "1.2.0",
            "_view_name": "StyleView",
            "bar_color": null,
            "description_width": ""
          }
        },
        "f3ec8a6dc7764ca49a4919479f03a9dc": {
          "model_module": "@jupyter-widgets/controls",
          "model_name": "HBoxModel",
          "model_module_version": "1.5.0",
          "state": {
            "_dom_classes": [],
            "_model_module": "@jupyter-widgets/controls",
            "_model_module_version": "1.5.0",
            "_model_name": "HBoxModel",
            "_view_count": null,
            "_view_module": "@jupyter-widgets/controls",
            "_view_module_version": "1.5.0",
            "_view_name": "HBoxView",
            "box_style": "",
            "children": [
              "IPY_MODEL_f1ad793c51cb45dcacf8c031140d1c31",
              "IPY_MODEL_008b93c175c54350a03b79d6db790649",
              "IPY_MODEL_d3f86b0521984b22945b0aed25ad887c"
            ],
            "layout": "IPY_MODEL_f8f229d1eecb45fab459eb65700a3bdc"
          }
        },
        "f1ad793c51cb45dcacf8c031140d1c31": {
          "model_module": "@jupyter-widgets/controls",
          "model_name": "HTMLModel",
          "model_module_version": "1.5.0",
          "state": {
            "_dom_classes": [],
            "_model_module": "@jupyter-widgets/controls",
            "_model_module_version": "1.5.0",
            "_model_name": "HTMLModel",
            "_view_count": null,
            "_view_module": "@jupyter-widgets/controls",
            "_view_module_version": "1.5.0",
            "_view_name": "HTMLView",
            "description": "",
            "description_tooltip": null,
            "layout": "IPY_MODEL_1e967c40b09748518afa5f184d7bc8db",
            "placeholder": "​",
            "style": "IPY_MODEL_a27ca3f9eab54b19871d93230fd5eb89",
            "value": "100%"
          }
        },
        "008b93c175c54350a03b79d6db790649": {
          "model_module": "@jupyter-widgets/controls",
          "model_name": "FloatProgressModel",
          "model_module_version": "1.5.0",
          "state": {
            "_dom_classes": [],
            "_model_module": "@jupyter-widgets/controls",
            "_model_module_version": "1.5.0",
            "_model_name": "FloatProgressModel",
            "_view_count": null,
            "_view_module": "@jupyter-widgets/controls",
            "_view_module_version": "1.5.0",
            "_view_name": "ProgressView",
            "bar_style": "success",
            "description": "",
            "description_tooltip": null,
            "layout": "IPY_MODEL_5cf0b14416a942338ebfaa0471406b68",
            "max": 46830571,
            "min": 0,
            "orientation": "horizontal",
            "style": "IPY_MODEL_1a9542d7b1b1488ea0ebd8d309f8e90f",
            "value": 46830571
          }
        },
        "d3f86b0521984b22945b0aed25ad887c": {
          "model_module": "@jupyter-widgets/controls",
          "model_name": "HTMLModel",
          "model_module_version": "1.5.0",
          "state": {
            "_dom_classes": [],
            "_model_module": "@jupyter-widgets/controls",
            "_model_module_version": "1.5.0",
            "_model_name": "HTMLModel",
            "_view_count": null,
            "_view_module": "@jupyter-widgets/controls",
            "_view_module_version": "1.5.0",
            "_view_name": "HTMLView",
            "description": "",
            "description_tooltip": null,
            "layout": "IPY_MODEL_bd3f7634dc81480083cb4ad61ee348a3",
            "placeholder": "​",
            "style": "IPY_MODEL_7a7045cd4cf34acbab82f462298e2ebb",
            "value": " 44.7M/44.7M [00:00&lt;00:00, 118MB/s]"
          }
        },
        "f8f229d1eecb45fab459eb65700a3bdc": {
          "model_module": "@jupyter-widgets/base",
          "model_name": "LayoutModel",
          "model_module_version": "1.2.0",
          "state": {
            "_model_module": "@jupyter-widgets/base",
            "_model_module_version": "1.2.0",
            "_model_name": "LayoutModel",
            "_view_count": null,
            "_view_module": "@jupyter-widgets/base",
            "_view_module_version": "1.2.0",
            "_view_name": "LayoutView",
            "align_content": null,
            "align_items": null,
            "align_self": null,
            "border": null,
            "bottom": null,
            "display": null,
            "flex": null,
            "flex_flow": null,
            "grid_area": null,
            "grid_auto_columns": null,
            "grid_auto_flow": null,
            "grid_auto_rows": null,
            "grid_column": null,
            "grid_gap": null,
            "grid_row": null,
            "grid_template_areas": null,
            "grid_template_columns": null,
            "grid_template_rows": null,
            "height": null,
            "justify_content": null,
            "justify_items": null,
            "left": null,
            "margin": null,
            "max_height": null,
            "max_width": null,
            "min_height": null,
            "min_width": null,
            "object_fit": null,
            "object_position": null,
            "order": null,
            "overflow": null,
            "overflow_x": null,
            "overflow_y": null,
            "padding": null,
            "right": null,
            "top": null,
            "visibility": null,
            "width": null
          }
        },
        "1e967c40b09748518afa5f184d7bc8db": {
          "model_module": "@jupyter-widgets/base",
          "model_name": "LayoutModel",
          "model_module_version": "1.2.0",
          "state": {
            "_model_module": "@jupyter-widgets/base",
            "_model_module_version": "1.2.0",
            "_model_name": "LayoutModel",
            "_view_count": null,
            "_view_module": "@jupyter-widgets/base",
            "_view_module_version": "1.2.0",
            "_view_name": "LayoutView",
            "align_content": null,
            "align_items": null,
            "align_self": null,
            "border": null,
            "bottom": null,
            "display": null,
            "flex": null,
            "flex_flow": null,
            "grid_area": null,
            "grid_auto_columns": null,
            "grid_auto_flow": null,
            "grid_auto_rows": null,
            "grid_column": null,
            "grid_gap": null,
            "grid_row": null,
            "grid_template_areas": null,
            "grid_template_columns": null,
            "grid_template_rows": null,
            "height": null,
            "justify_content": null,
            "justify_items": null,
            "left": null,
            "margin": null,
            "max_height": null,
            "max_width": null,
            "min_height": null,
            "min_width": null,
            "object_fit": null,
            "object_position": null,
            "order": null,
            "overflow": null,
            "overflow_x": null,
            "overflow_y": null,
            "padding": null,
            "right": null,
            "top": null,
            "visibility": null,
            "width": null
          }
        },
        "a27ca3f9eab54b19871d93230fd5eb89": {
          "model_module": "@jupyter-widgets/controls",
          "model_name": "DescriptionStyleModel",
          "model_module_version": "1.5.0",
          "state": {
            "_model_module": "@jupyter-widgets/controls",
            "_model_module_version": "1.5.0",
            "_model_name": "DescriptionStyleModel",
            "_view_count": null,
            "_view_module": "@jupyter-widgets/base",
            "_view_module_version": "1.2.0",
            "_view_name": "StyleView",
            "description_width": ""
          }
        },
        "5cf0b14416a942338ebfaa0471406b68": {
          "model_module": "@jupyter-widgets/base",
          "model_name": "LayoutModel",
          "model_module_version": "1.2.0",
          "state": {
            "_model_module": "@jupyter-widgets/base",
            "_model_module_version": "1.2.0",
            "_model_name": "LayoutModel",
            "_view_count": null,
            "_view_module": "@jupyter-widgets/base",
            "_view_module_version": "1.2.0",
            "_view_name": "LayoutView",
            "align_content": null,
            "align_items": null,
            "align_self": null,
            "border": null,
            "bottom": null,
            "display": null,
            "flex": null,
            "flex_flow": null,
            "grid_area": null,
            "grid_auto_columns": null,
            "grid_auto_flow": null,
            "grid_auto_rows": null,
            "grid_column": null,
            "grid_gap": null,
            "grid_row": null,
            "grid_template_areas": null,
            "grid_template_columns": null,
            "grid_template_rows": null,
            "height": null,
            "justify_content": null,
            "justify_items": null,
            "left": null,
            "margin": null,
            "max_height": null,
            "max_width": null,
            "min_height": null,
            "min_width": null,
            "object_fit": null,
            "object_position": null,
            "order": null,
            "overflow": null,
            "overflow_x": null,
            "overflow_y": null,
            "padding": null,
            "right": null,
            "top": null,
            "visibility": null,
            "width": null
          }
        },
        "1a9542d7b1b1488ea0ebd8d309f8e90f": {
          "model_module": "@jupyter-widgets/controls",
          "model_name": "ProgressStyleModel",
          "model_module_version": "1.5.0",
          "state": {
            "_model_module": "@jupyter-widgets/controls",
            "_model_module_version": "1.5.0",
            "_model_name": "ProgressStyleModel",
            "_view_count": null,
            "_view_module": "@jupyter-widgets/base",
            "_view_module_version": "1.2.0",
            "_view_name": "StyleView",
            "bar_color": null,
            "description_width": ""
          }
        },
        "bd3f7634dc81480083cb4ad61ee348a3": {
          "model_module": "@jupyter-widgets/base",
          "model_name": "LayoutModel",
          "model_module_version": "1.2.0",
          "state": {
            "_model_module": "@jupyter-widgets/base",
            "_model_module_version": "1.2.0",
            "_model_name": "LayoutModel",
            "_view_count": null,
            "_view_module": "@jupyter-widgets/base",
            "_view_module_version": "1.2.0",
            "_view_name": "LayoutView",
            "align_content": null,
            "align_items": null,
            "align_self": null,
            "border": null,
            "bottom": null,
            "display": null,
            "flex": null,
            "flex_flow": null,
            "grid_area": null,
            "grid_auto_columns": null,
            "grid_auto_flow": null,
            "grid_auto_rows": null,
            "grid_column": null,
            "grid_gap": null,
            "grid_row": null,
            "grid_template_areas": null,
            "grid_template_columns": null,
            "grid_template_rows": null,
            "height": null,
            "justify_content": null,
            "justify_items": null,
            "left": null,
            "margin": null,
            "max_height": null,
            "max_width": null,
            "min_height": null,
            "min_width": null,
            "object_fit": null,
            "object_position": null,
            "order": null,
            "overflow": null,
            "overflow_x": null,
            "overflow_y": null,
            "padding": null,
            "right": null,
            "top": null,
            "visibility": null,
            "width": null
          }
        },
        "7a7045cd4cf34acbab82f462298e2ebb": {
          "model_module": "@jupyter-widgets/controls",
          "model_name": "DescriptionStyleModel",
          "model_module_version": "1.5.0",
          "state": {
            "_model_module": "@jupyter-widgets/controls",
            "_model_module_version": "1.5.0",
            "_model_name": "DescriptionStyleModel",
            "_view_count": null,
            "_view_module": "@jupyter-widgets/base",
            "_view_module_version": "1.2.0",
            "_view_name": "StyleView",
            "description_width": ""
          }
        },
        "a7bf4741aa1149daa17bc3cd416696da": {
          "model_module": "@jupyter-widgets/controls",
          "model_name": "VBoxModel",
          "model_module_version": "1.5.0",
          "state": {
            "_dom_classes": [],
            "_model_module": "@jupyter-widgets/controls",
            "_model_module_version": "1.5.0",
            "_model_name": "VBoxModel",
            "_view_count": null,
            "_view_module": "@jupyter-widgets/controls",
            "_view_module_version": "1.5.0",
            "_view_name": "VBoxView",
            "box_style": "",
            "children": [
              "IPY_MODEL_8a351a642bec4c5cb2eaa67f32df99a1",
              "IPY_MODEL_75eac6fbc4194b76986b5753d957af1a"
            ],
            "layout": "IPY_MODEL_2d851ede69694a39a537a47354464fd7"
          }
        },
        "8a351a642bec4c5cb2eaa67f32df99a1": {
          "model_module": "@jupyter-widgets/controls",
          "model_name": "LabelModel",
          "model_module_version": "1.5.0",
          "state": {
            "_dom_classes": [],
            "_model_module": "@jupyter-widgets/controls",
            "_model_module_version": "1.5.0",
            "_model_name": "LabelModel",
            "_view_count": null,
            "_view_module": "@jupyter-widgets/controls",
            "_view_module_version": "1.5.0",
            "_view_name": "LabelView",
            "description": "",
            "description_tooltip": null,
            "layout": "IPY_MODEL_981a86c9bba34f1ebb0dff9a868966a9",
            "placeholder": "​",
            "style": "IPY_MODEL_386ea21c81964d93b5a8416c32bd518c",
            "value": "0.009 MB of 0.009 MB uploaded (0.000 MB deduped)\r"
          }
        },
        "75eac6fbc4194b76986b5753d957af1a": {
          "model_module": "@jupyter-widgets/controls",
          "model_name": "FloatProgressModel",
          "model_module_version": "1.5.0",
          "state": {
            "_dom_classes": [],
            "_model_module": "@jupyter-widgets/controls",
            "_model_module_version": "1.5.0",
            "_model_name": "FloatProgressModel",
            "_view_count": null,
            "_view_module": "@jupyter-widgets/controls",
            "_view_module_version": "1.5.0",
            "_view_name": "ProgressView",
            "bar_style": "",
            "description": "",
            "description_tooltip": null,
            "layout": "IPY_MODEL_b89299e365a146f1be70c969bd2b77bd",
            "max": 1,
            "min": 0,
            "orientation": "horizontal",
            "style": "IPY_MODEL_b7de5f20936e47708ac33cb149ed1af8",
            "value": 1
          }
        },
        "2d851ede69694a39a537a47354464fd7": {
          "model_module": "@jupyter-widgets/base",
          "model_name": "LayoutModel",
          "model_module_version": "1.2.0",
          "state": {
            "_model_module": "@jupyter-widgets/base",
            "_model_module_version": "1.2.0",
            "_model_name": "LayoutModel",
            "_view_count": null,
            "_view_module": "@jupyter-widgets/base",
            "_view_module_version": "1.2.0",
            "_view_name": "LayoutView",
            "align_content": null,
            "align_items": null,
            "align_self": null,
            "border": null,
            "bottom": null,
            "display": null,
            "flex": null,
            "flex_flow": null,
            "grid_area": null,
            "grid_auto_columns": null,
            "grid_auto_flow": null,
            "grid_auto_rows": null,
            "grid_column": null,
            "grid_gap": null,
            "grid_row": null,
            "grid_template_areas": null,
            "grid_template_columns": null,
            "grid_template_rows": null,
            "height": null,
            "justify_content": null,
            "justify_items": null,
            "left": null,
            "margin": null,
            "max_height": null,
            "max_width": null,
            "min_height": null,
            "min_width": null,
            "object_fit": null,
            "object_position": null,
            "order": null,
            "overflow": null,
            "overflow_x": null,
            "overflow_y": null,
            "padding": null,
            "right": null,
            "top": null,
            "visibility": null,
            "width": null
          }
        },
        "981a86c9bba34f1ebb0dff9a868966a9": {
          "model_module": "@jupyter-widgets/base",
          "model_name": "LayoutModel",
          "model_module_version": "1.2.0",
          "state": {
            "_model_module": "@jupyter-widgets/base",
            "_model_module_version": "1.2.0",
            "_model_name": "LayoutModel",
            "_view_count": null,
            "_view_module": "@jupyter-widgets/base",
            "_view_module_version": "1.2.0",
            "_view_name": "LayoutView",
            "align_content": null,
            "align_items": null,
            "align_self": null,
            "border": null,
            "bottom": null,
            "display": null,
            "flex": null,
            "flex_flow": null,
            "grid_area": null,
            "grid_auto_columns": null,
            "grid_auto_flow": null,
            "grid_auto_rows": null,
            "grid_column": null,
            "grid_gap": null,
            "grid_row": null,
            "grid_template_areas": null,
            "grid_template_columns": null,
            "grid_template_rows": null,
            "height": null,
            "justify_content": null,
            "justify_items": null,
            "left": null,
            "margin": null,
            "max_height": null,
            "max_width": null,
            "min_height": null,
            "min_width": null,
            "object_fit": null,
            "object_position": null,
            "order": null,
            "overflow": null,
            "overflow_x": null,
            "overflow_y": null,
            "padding": null,
            "right": null,
            "top": null,
            "visibility": null,
            "width": null
          }
        },
        "386ea21c81964d93b5a8416c32bd518c": {
          "model_module": "@jupyter-widgets/controls",
          "model_name": "DescriptionStyleModel",
          "model_module_version": "1.5.0",
          "state": {
            "_model_module": "@jupyter-widgets/controls",
            "_model_module_version": "1.5.0",
            "_model_name": "DescriptionStyleModel",
            "_view_count": null,
            "_view_module": "@jupyter-widgets/base",
            "_view_module_version": "1.2.0",
            "_view_name": "StyleView",
            "description_width": ""
          }
        },
        "b89299e365a146f1be70c969bd2b77bd": {
          "model_module": "@jupyter-widgets/base",
          "model_name": "LayoutModel",
          "model_module_version": "1.2.0",
          "state": {
            "_model_module": "@jupyter-widgets/base",
            "_model_module_version": "1.2.0",
            "_model_name": "LayoutModel",
            "_view_count": null,
            "_view_module": "@jupyter-widgets/base",
            "_view_module_version": "1.2.0",
            "_view_name": "LayoutView",
            "align_content": null,
            "align_items": null,
            "align_self": null,
            "border": null,
            "bottom": null,
            "display": null,
            "flex": null,
            "flex_flow": null,
            "grid_area": null,
            "grid_auto_columns": null,
            "grid_auto_flow": null,
            "grid_auto_rows": null,
            "grid_column": null,
            "grid_gap": null,
            "grid_row": null,
            "grid_template_areas": null,
            "grid_template_columns": null,
            "grid_template_rows": null,
            "height": null,
            "justify_content": null,
            "justify_items": null,
            "left": null,
            "margin": null,
            "max_height": null,
            "max_width": null,
            "min_height": null,
            "min_width": null,
            "object_fit": null,
            "object_position": null,
            "order": null,
            "overflow": null,
            "overflow_x": null,
            "overflow_y": null,
            "padding": null,
            "right": null,
            "top": null,
            "visibility": null,
            "width": null
          }
        },
        "b7de5f20936e47708ac33cb149ed1af8": {
          "model_module": "@jupyter-widgets/controls",
          "model_name": "ProgressStyleModel",
          "model_module_version": "1.5.0",
          "state": {
            "_model_module": "@jupyter-widgets/controls",
            "_model_module_version": "1.5.0",
            "_model_name": "ProgressStyleModel",
            "_view_count": null,
            "_view_module": "@jupyter-widgets/base",
            "_view_module_version": "1.2.0",
            "_view_name": "StyleView",
            "bar_color": null,
            "description_width": ""
          }
        },
        "5ba3e246edfb41db89a18a1a858c2540": {
          "model_module": "@jupyter-widgets/controls",
          "model_name": "VBoxModel",
          "model_module_version": "1.5.0",
          "state": {
            "_dom_classes": [],
            "_model_module": "@jupyter-widgets/controls",
            "_model_module_version": "1.5.0",
            "_model_name": "VBoxModel",
            "_view_count": null,
            "_view_module": "@jupyter-widgets/controls",
            "_view_module_version": "1.5.0",
            "_view_name": "VBoxView",
            "box_style": "",
            "children": [
              "IPY_MODEL_8005e8e766f84f73bf7cffb4d81c0327",
              "IPY_MODEL_f32e51c6e6e54ebd967e71aef7e01ea3"
            ],
            "layout": "IPY_MODEL_83fc060217e547839326fcee38cc9261"
          }
        },
        "8005e8e766f84f73bf7cffb4d81c0327": {
          "model_module": "@jupyter-widgets/controls",
          "model_name": "LabelModel",
          "model_module_version": "1.5.0",
          "state": {
            "_dom_classes": [],
            "_model_module": "@jupyter-widgets/controls",
            "_model_module_version": "1.5.0",
            "_model_name": "LabelModel",
            "_view_count": null,
            "_view_module": "@jupyter-widgets/controls",
            "_view_module_version": "1.5.0",
            "_view_name": "LabelView",
            "description": "",
            "description_tooltip": null,
            "layout": "IPY_MODEL_28294cdc6617466e9b62ba257d7cd8f5",
            "placeholder": "​",
            "style": "IPY_MODEL_a399d8e27bfa405bb5b8983d1ebc4a52",
            "value": "0.010 MB of 0.010 MB uploaded (0.000 MB deduped)\r"
          }
        },
        "f32e51c6e6e54ebd967e71aef7e01ea3": {
          "model_module": "@jupyter-widgets/controls",
          "model_name": "FloatProgressModel",
          "model_module_version": "1.5.0",
          "state": {
            "_dom_classes": [],
            "_model_module": "@jupyter-widgets/controls",
            "_model_module_version": "1.5.0",
            "_model_name": "FloatProgressModel",
            "_view_count": null,
            "_view_module": "@jupyter-widgets/controls",
            "_view_module_version": "1.5.0",
            "_view_name": "ProgressView",
            "bar_style": "",
            "description": "",
            "description_tooltip": null,
            "layout": "IPY_MODEL_553e0d49f31e4d7a88a077b5e4f12776",
            "max": 1,
            "min": 0,
            "orientation": "horizontal",
            "style": "IPY_MODEL_2e4b67fc45b449b99831ce0d79e2b01b",
            "value": 1
          }
        },
        "83fc060217e547839326fcee38cc9261": {
          "model_module": "@jupyter-widgets/base",
          "model_name": "LayoutModel",
          "model_module_version": "1.2.0",
          "state": {
            "_model_module": "@jupyter-widgets/base",
            "_model_module_version": "1.2.0",
            "_model_name": "LayoutModel",
            "_view_count": null,
            "_view_module": "@jupyter-widgets/base",
            "_view_module_version": "1.2.0",
            "_view_name": "LayoutView",
            "align_content": null,
            "align_items": null,
            "align_self": null,
            "border": null,
            "bottom": null,
            "display": null,
            "flex": null,
            "flex_flow": null,
            "grid_area": null,
            "grid_auto_columns": null,
            "grid_auto_flow": null,
            "grid_auto_rows": null,
            "grid_column": null,
            "grid_gap": null,
            "grid_row": null,
            "grid_template_areas": null,
            "grid_template_columns": null,
            "grid_template_rows": null,
            "height": null,
            "justify_content": null,
            "justify_items": null,
            "left": null,
            "margin": null,
            "max_height": null,
            "max_width": null,
            "min_height": null,
            "min_width": null,
            "object_fit": null,
            "object_position": null,
            "order": null,
            "overflow": null,
            "overflow_x": null,
            "overflow_y": null,
            "padding": null,
            "right": null,
            "top": null,
            "visibility": null,
            "width": null
          }
        },
        "28294cdc6617466e9b62ba257d7cd8f5": {
          "model_module": "@jupyter-widgets/base",
          "model_name": "LayoutModel",
          "model_module_version": "1.2.0",
          "state": {
            "_model_module": "@jupyter-widgets/base",
            "_model_module_version": "1.2.0",
            "_model_name": "LayoutModel",
            "_view_count": null,
            "_view_module": "@jupyter-widgets/base",
            "_view_module_version": "1.2.0",
            "_view_name": "LayoutView",
            "align_content": null,
            "align_items": null,
            "align_self": null,
            "border": null,
            "bottom": null,
            "display": null,
            "flex": null,
            "flex_flow": null,
            "grid_area": null,
            "grid_auto_columns": null,
            "grid_auto_flow": null,
            "grid_auto_rows": null,
            "grid_column": null,
            "grid_gap": null,
            "grid_row": null,
            "grid_template_areas": null,
            "grid_template_columns": null,
            "grid_template_rows": null,
            "height": null,
            "justify_content": null,
            "justify_items": null,
            "left": null,
            "margin": null,
            "max_height": null,
            "max_width": null,
            "min_height": null,
            "min_width": null,
            "object_fit": null,
            "object_position": null,
            "order": null,
            "overflow": null,
            "overflow_x": null,
            "overflow_y": null,
            "padding": null,
            "right": null,
            "top": null,
            "visibility": null,
            "width": null
          }
        },
        "a399d8e27bfa405bb5b8983d1ebc4a52": {
          "model_module": "@jupyter-widgets/controls",
          "model_name": "DescriptionStyleModel",
          "model_module_version": "1.5.0",
          "state": {
            "_model_module": "@jupyter-widgets/controls",
            "_model_module_version": "1.5.0",
            "_model_name": "DescriptionStyleModel",
            "_view_count": null,
            "_view_module": "@jupyter-widgets/base",
            "_view_module_version": "1.2.0",
            "_view_name": "StyleView",
            "description_width": ""
          }
        },
        "553e0d49f31e4d7a88a077b5e4f12776": {
          "model_module": "@jupyter-widgets/base",
          "model_name": "LayoutModel",
          "model_module_version": "1.2.0",
          "state": {
            "_model_module": "@jupyter-widgets/base",
            "_model_module_version": "1.2.0",
            "_model_name": "LayoutModel",
            "_view_count": null,
            "_view_module": "@jupyter-widgets/base",
            "_view_module_version": "1.2.0",
            "_view_name": "LayoutView",
            "align_content": null,
            "align_items": null,
            "align_self": null,
            "border": null,
            "bottom": null,
            "display": null,
            "flex": null,
            "flex_flow": null,
            "grid_area": null,
            "grid_auto_columns": null,
            "grid_auto_flow": null,
            "grid_auto_rows": null,
            "grid_column": null,
            "grid_gap": null,
            "grid_row": null,
            "grid_template_areas": null,
            "grid_template_columns": null,
            "grid_template_rows": null,
            "height": null,
            "justify_content": null,
            "justify_items": null,
            "left": null,
            "margin": null,
            "max_height": null,
            "max_width": null,
            "min_height": null,
            "min_width": null,
            "object_fit": null,
            "object_position": null,
            "order": null,
            "overflow": null,
            "overflow_x": null,
            "overflow_y": null,
            "padding": null,
            "right": null,
            "top": null,
            "visibility": null,
            "width": null
          }
        },
        "2e4b67fc45b449b99831ce0d79e2b01b": {
          "model_module": "@jupyter-widgets/controls",
          "model_name": "ProgressStyleModel",
          "model_module_version": "1.5.0",
          "state": {
            "_model_module": "@jupyter-widgets/controls",
            "_model_module_version": "1.5.0",
            "_model_name": "ProgressStyleModel",
            "_view_count": null,
            "_view_module": "@jupyter-widgets/base",
            "_view_module_version": "1.2.0",
            "_view_name": "StyleView",
            "bar_color": null,
            "description_width": ""
          }
        }
      }
    },
    "gpuClass": "standard"
  },
  "cells": [
    {
      "cell_type": "code",
      "source": [
        "!pip install wandb "
      ],
      "metadata": {
        "id": "0Xawz6_6Mpew",
        "colab": {
          "base_uri": "https://localhost:8080/"
        },
        "outputId": "d7777b98-b150-4fa2-e7fa-7326fc9dda17"
      },
      "execution_count": null,
      "outputs": [
        {
          "output_type": "stream",
          "name": "stdout",
          "text": [
            "Looking in indexes: https://pypi.org/simple, https://us-python.pkg.dev/colab-wheels/public/simple/\n",
            "Requirement already satisfied: wandb in /usr/local/lib/python3.8/dist-packages (0.13.10)\n",
            "Requirement already satisfied: psutil>=5.0.0 in /usr/local/lib/python3.8/dist-packages (from wandb) (5.4.8)\n",
            "Requirement already satisfied: GitPython>=1.0.0 in /usr/local/lib/python3.8/dist-packages (from wandb) (3.1.31)\n",
            "Requirement already satisfied: PyYAML in /usr/local/lib/python3.8/dist-packages (from wandb) (6.0)\n",
            "Requirement already satisfied: requests<3,>=2.0.0 in /usr/local/lib/python3.8/dist-packages (from wandb) (2.25.1)\n",
            "Requirement already satisfied: setuptools in /usr/local/lib/python3.8/dist-packages (from wandb) (57.4.0)\n",
            "Requirement already satisfied: pathtools in /usr/local/lib/python3.8/dist-packages (from wandb) (0.1.2)\n",
            "Requirement already satisfied: setproctitle in /usr/local/lib/python3.8/dist-packages (from wandb) (1.3.2)\n",
            "Requirement already satisfied: appdirs>=1.4.3 in /usr/local/lib/python3.8/dist-packages (from wandb) (1.4.4)\n",
            "Requirement already satisfied: Click!=8.0.0,>=7.0 in /usr/local/lib/python3.8/dist-packages (from wandb) (7.1.2)\n",
            "Requirement already satisfied: protobuf!=4.21.0,<5,>=3.12.0 in /usr/local/lib/python3.8/dist-packages (from wandb) (3.19.6)\n",
            "Requirement already satisfied: typing-extensions in /usr/local/lib/python3.8/dist-packages (from wandb) (4.5.0)\n",
            "Requirement already satisfied: sentry-sdk>=1.0.0 in /usr/local/lib/python3.8/dist-packages (from wandb) (1.15.0)\n",
            "Requirement already satisfied: docker-pycreds>=0.4.0 in /usr/local/lib/python3.8/dist-packages (from wandb) (0.4.0)\n",
            "Requirement already satisfied: six>=1.4.0 in /usr/local/lib/python3.8/dist-packages (from docker-pycreds>=0.4.0->wandb) (1.15.0)\n",
            "Requirement already satisfied: gitdb<5,>=4.0.1 in /usr/local/lib/python3.8/dist-packages (from GitPython>=1.0.0->wandb) (4.0.10)\n",
            "Requirement already satisfied: chardet<5,>=3.0.2 in /usr/local/lib/python3.8/dist-packages (from requests<3,>=2.0.0->wandb) (4.0.0)\n",
            "Requirement already satisfied: certifi>=2017.4.17 in /usr/local/lib/python3.8/dist-packages (from requests<3,>=2.0.0->wandb) (2022.12.7)\n",
            "Requirement already satisfied: urllib3<1.27,>=1.21.1 in /usr/local/lib/python3.8/dist-packages (from requests<3,>=2.0.0->wandb) (1.26.14)\n",
            "Requirement already satisfied: idna<3,>=2.5 in /usr/local/lib/python3.8/dist-packages (from requests<3,>=2.0.0->wandb) (2.10)\n",
            "Requirement already satisfied: smmap<6,>=3.0.1 in /usr/local/lib/python3.8/dist-packages (from gitdb<5,>=4.0.1->GitPython>=1.0.0->wandb) (5.0.0)\n"
          ]
        }
      ]
    },
    {
      "cell_type": "code",
      "execution_count": null,
      "metadata": {
        "id": "nbum-JQVL-Q_"
      },
      "outputs": [],
      "source": [
        "import os\n",
        "from PIL import Image\n",
        "import random\n",
        "import torch\n",
        "import torch.nn as nn\n",
        "import torchvision\n",
        "import torchvision.transforms as transforms\n",
        "import torch.optim as optim\n",
        "import matplotlib.pyplot as plt\n",
        "import torch.nn.functional as F\n",
        "import numpy as np\n",
        "from torch.utils.data.sampler import SubsetRandomSampler\n",
        "import pickle\n",
        "from sklearn import manifold\n",
        "import pandas as pd\n",
        "import seaborn as sns\n",
        "from sklearn.metrics import classification_report\n",
        "import scipy.io\n",
        "from scipy.io import loadmat\n",
        "import scipy.io as sio\n",
        "from torch.utils.data import Dataset, DataLoader\n",
        "from sklearn.manifold import TSNE\n",
        "import matplotlib.pyplot as plt\n",
        "from mpl_toolkits.mplot3d import Axes3D\n",
        "from torchvision import datasets, transforms\n",
        "import cv2"
      ]
    },
    {
      "cell_type": "markdown",
      "source": [
        "## 1.1.a"
      ],
      "metadata": {
        "id": "h59xr5KdnANq"
      }
    },
    {
      "cell_type": "code",
      "source": [
        "import wandb\n",
        "wandb.login()"
      ],
      "metadata": {
        "id": "5DUFOTggMW2b",
        "colab": {
          "base_uri": "https://localhost:8080/"
        },
        "outputId": "a9af1595-b5ae-46c7-cdf5-20048e7b5edc"
      },
      "execution_count": null,
      "outputs": [
        {
          "output_type": "stream",
          "name": "stderr",
          "text": [
            "\u001b[34m\u001b[1mwandb\u001b[0m: Currently logged in as: \u001b[33matif20523\u001b[0m. Use \u001b[1m`wandb login --relogin`\u001b[0m to force relogin\n"
          ]
        },
        {
          "output_type": "execute_result",
          "data": {
            "text/plain": [
              "True"
            ]
          },
          "metadata": {},
          "execution_count": 7
        }
      ]
    },
    {
      "cell_type": "code",
      "source": [
        "from google.colab import drive\n",
        "drive.mount(\"/content/gdrive\")\n",
        "path_data = \"/content/gdrive/MyDrive/dataset/train_32x32.mat\""
      ],
      "metadata": {
        "colab": {
          "base_uri": "https://localhost:8080/"
        },
        "id": "ru4I2BU3nr2U",
        "outputId": "b48bb187-a02c-4e1f-e320-45037b36b992"
      },
      "execution_count": null,
      "outputs": [
        {
          "output_type": "stream",
          "name": "stdout",
          "text": [
            "Drive already mounted at /content/gdrive; to attempt to forcibly remount, call drive.mount(\"/content/gdrive\", force_remount=True).\n"
          ]
        }
      ]
    },
    {
      "cell_type": "code",
      "source": [
        "# Loading the dataset\n",
        "matrix = scipy.io.loadmat(path_data)\n",
        "\n",
        "# Extract images and labels\n",
        "images = matrix['X']\n",
        "labels = matrix['y']"
      ],
      "metadata": {
        "id": "M0K_bNuCVCAO"
      },
      "execution_count": null,
      "outputs": []
    },
    {
      "cell_type": "code",
      "source": [
        "labels[labels == 10] = 0"
      ],
      "metadata": {
        "id": "cjVTG7bWMUxM"
      },
      "execution_count": null,
      "outputs": []
    },
    {
      "cell_type": "code",
      "source": [
        "images = np.transpose(images, (3, 0, 1, 2))"
      ],
      "metadata": {
        "id": "Em-LtSP2Ylzl"
      },
      "execution_count": null,
      "outputs": []
    },
    {
      "cell_type": "code",
      "source": [
        "print(images.shape)\n",
        "print(labels.shape)"
      ],
      "metadata": {
        "colab": {
          "base_uri": "https://localhost:8080/"
        },
        "id": "fN3uYsxgVU3v",
        "outputId": "612706a7-0a91-4078-cb42-a1b863c394ff"
      },
      "execution_count": null,
      "outputs": [
        {
          "output_type": "stream",
          "name": "stdout",
          "text": [
            "(73257, 32, 32, 3)\n",
            "(73257, 1)\n"
          ]
        }
      ]
    },
    {
      "cell_type": "markdown",
      "source": [
        "The data in the train_32x32.mat file is stored in a struct object, which is a MATLAB data structure that contains multiple fields. In this case, the two main fields are:\n",
        "\n",
        "X: This is a 4-dimensional array that contains the images. The shape of X is (32, 32, 3, num_samples), where 32 is the height and width of each image, 3 is the number of color channels (RGB), and num_samples is the number of images in the dataset.\n",
        "\n",
        "y: This is a 2-dimensional array that contains the labels for each image. The shape of y is (num_samples, 1). The labels are integers in the range of 1 to 10, where 0 represents the digit '0' and 10 represents the digit '1'.\n",
        "\n",
        "The data in the train_32x32.mat file is stored in the MATLAB format, and you can use the scipy.io library in Python to load the data and extract the image data and labels.\n"
      ],
      "metadata": {
        "id": "rbfeyOePjfhW"
      }
    },
    {
      "cell_type": "code",
      "source": [
        "num_samples = 73257"
      ],
      "metadata": {
        "id": "seTEiW4Ra2vb"
      },
      "execution_count": null,
      "outputs": []
    },
    {
      "cell_type": "code",
      "source": [
        "# Split the data into training, validation, and testing sets\n",
        "val_split = int(0.2 * num_samples)\n",
        "test_split = int(0.1 * num_samples) + val_split"
      ],
      "metadata": {
        "id": "AbZw3Onaec-x"
      },
      "execution_count": null,
      "outputs": []
    },
    {
      "cell_type": "code",
      "source": [
        "# validation data splitted to 20% of the dataset\n",
        "val_data = images[:val_split ,:, :, :]  \n",
        "val_labels = labels[:val_split]\n",
        "\n",
        "# testing data splitted to 10% of the dataset\n",
        "test_data = images[val_split:test_split, :, :, :]\n",
        "test_labels = labels[val_split:test_split]\n",
        "\n",
        "# rest reserved for training data\n",
        "train_data = images[test_split:, :, :, :]\n",
        "train_labels = labels[test_split:]"
      ],
      "metadata": {
        "id": "SJlH-fOhej4Z"
      },
      "execution_count": null,
      "outputs": []
    },
    {
      "cell_type": "code",
      "source": [
        "print(\"train_data: \", train_data.shape)\n",
        "print(\"train_labels: \", train_labels.shape)\n",
        "print(\"val_data: \", val_data.shape)\n",
        "print(\"val_labels: \", val_labels.shape)\n",
        "print(\"test_data: \", test_data.shape)\n",
        "print(\"test_labels: \", test_labels.shape)"
      ],
      "metadata": {
        "colab": {
          "base_uri": "https://localhost:8080/"
        },
        "id": "fvf88rvuaEwX",
        "outputId": "49b9f41e-c8aa-42d5-f595-2a7268772843"
      },
      "execution_count": null,
      "outputs": [
        {
          "output_type": "stream",
          "name": "stdout",
          "text": [
            "train_data:  (51281, 32, 32, 3)\n",
            "train_labels:  (51281, 1)\n",
            "val_data:  (14651, 32, 32, 3)\n",
            "val_labels:  (14651, 1)\n",
            "test_data:  (7325, 32, 32, 3)\n",
            "test_labels:  (7325, 1)\n"
          ]
        }
      ]
    },
    {
      "cell_type": "code",
      "source": [
        "# Initialize a W&B run\n",
        "wandb.init(project='housenumbers')\n"
      ],
      "metadata": {
        "colab": {
          "base_uri": "https://localhost:8080/",
          "height": 125
        },
        "id": "PO7GL3NCLT8-",
        "outputId": "ea5e1a4b-cfcd-4675-c0a1-65a1d6c1ed3b"
      },
      "execution_count": null,
      "outputs": [
        {
          "output_type": "display_data",
          "data": {
            "text/plain": [
              "<IPython.core.display.HTML object>"
            ],
            "text/html": [
              "Tracking run with wandb version 0.13.10"
            ]
          },
          "metadata": {}
        },
        {
          "output_type": "display_data",
          "data": {
            "text/plain": [
              "<IPython.core.display.HTML object>"
            ],
            "text/html": [
              "Run data is saved locally in <code>/content/wandb/run-20230220_120532-cf2tcmr1</code>"
            ]
          },
          "metadata": {}
        },
        {
          "output_type": "display_data",
          "data": {
            "text/plain": [
              "<IPython.core.display.HTML object>"
            ],
            "text/html": [
              "Syncing run <strong><a href='https://wandb.ai/atif20523/housenumbers/runs/cf2tcmr1' target=\"_blank\">radiant-aardvark-30</a></strong> to <a href='https://wandb.ai/atif20523/housenumbers' target=\"_blank\">Weights & Biases</a> (<a href='https://wandb.me/run' target=\"_blank\">docs</a>)<br/>"
            ]
          },
          "metadata": {}
        },
        {
          "output_type": "display_data",
          "data": {
            "text/plain": [
              "<IPython.core.display.HTML object>"
            ],
            "text/html": [
              " View project at <a href='https://wandb.ai/atif20523/housenumbers' target=\"_blank\">https://wandb.ai/atif20523/housenumbers</a>"
            ]
          },
          "metadata": {}
        },
        {
          "output_type": "display_data",
          "data": {
            "text/plain": [
              "<IPython.core.display.HTML object>"
            ],
            "text/html": [
              " View run at <a href='https://wandb.ai/atif20523/housenumbers/runs/cf2tcmr1' target=\"_blank\">https://wandb.ai/atif20523/housenumbers/runs/cf2tcmr1</a>"
            ]
          },
          "metadata": {}
        },
        {
          "output_type": "execute_result",
          "data": {
            "text/html": [
              "<button onClick=\"this.nextSibling.style.display='block';this.style.display='none';\">Display W&B run</button><iframe src='https://wandb.ai/atif20523/housenumbers/runs/cf2tcmr1?jupyter=true' style='border:none;width:100%;height:420px;display:none;'></iframe>"
            ],
            "text/plain": [
              "<wandb.sdk.wandb_run.Run at 0x7f1824da20a0>"
            ]
          },
          "metadata": {},
          "execution_count": 17
        }
      ]
    },
    {
      "cell_type": "code",
      "source": [
        "device = torch.device(\"cuda\" if torch.cuda.is_available() else \"cpu\")"
      ],
      "metadata": {
        "id": "eLGK9HipU8f1"
      },
      "execution_count": null,
      "outputs": []
    },
    {
      "cell_type": "markdown",
      "source": [
        "## 1.1.b\n"
      ],
      "metadata": {
        "id": "RuyU_kGsRzLR"
      }
    },
    {
      "cell_type": "code",
      "source": [
        "class HouseNumbersDataset(Dataset):\n",
        "    def __init__(self, mat_file, transform=None):\n",
        "        self.data = sio.loadmat(mat_file)['X']\n",
        "        self.target = sio.loadmat(mat_file)['y'].squeeze()\n",
        "        self.transform = transform\n",
        "\n",
        "    def __len__(self):\n",
        "        return self.data.shape[0]\n",
        "\n",
        "    def __getitem__(self, index):\n",
        "        img = self.data[:, :, :, index]\n",
        "        img = torch.tensor(self.data[index], dtype = torch.float32)\n",
        "        target =  torch.tensor(self.target[index], dtype = torch.float32)\n",
        "        return img, target\n",
        "\n",
        "# Load the entire dataset\n",
        "all_data = HouseNumbersDataset(path_data)\n",
        "\n",
        "\n",
        "# Define the data loaders for each split\n",
        "train_loader = torch.utils.data.DataLoader(all_data, batch_size=100, shuffle=True)\n",
        "val_loader = torch.utils.data.DataLoader(val_data, batch_size=100, shuffle=False)\n",
        "test_loader = torch.utils.data.DataLoader(test_data, batch_size=100, shuffle=False)"
      ],
      "metadata": {
        "id": "DdD7vcYjRy0M"
      },
      "execution_count": null,
      "outputs": []
    },
    {
      "cell_type": "markdown",
      "source": [
        "## 1.1.c"
      ],
      "metadata": {
        "id": "S_Um691BnJfT"
      }
    },
    {
      "cell_type": "code",
      "source": [
        "t = train_data.reshape(-1, 32*32*3)\n",
        "v = val_data.reshape(-1, 32*32*3)"
      ],
      "metadata": {
        "id": "iHE4EMqUXq8G"
      },
      "execution_count": null,
      "outputs": []
    },
    {
      "cell_type": "code",
      "source": [
        "# Calculating the number of samples for each class in the training and validation sets\n",
        "train_counts = []\n",
        "val_counts = []\n",
        "test_counts = []\n",
        "\n",
        "for i in range(10):\n",
        "  train_counts.append(np.count_nonzero(train_labels == i+1))\n",
        "  val_counts.append(np.count_nonzero(val_labels == i+1))\n",
        "  test_counts.append(np.count_nonzero(test_labels == i+1))\n"
      ],
      "metadata": {
        "id": "9t8bZQPCU2r5"
      },
      "execution_count": null,
      "outputs": []
    },
    {
      "cell_type": "code",
      "source": [
        "# Plotting the bar graphdata\n",
        "fig, ax = plt.subplots(1, 3, figsize=(15, 5))\n",
        "ax[0].bar(range(10), train_counts, color='blue')\n",
        "ax[0].set_xlabel(\"Class Label\")\n",
        "ax[0].set_ylabel(\"Number of Samples\")\n",
        "ax[0].set_title(\"Training Set\")\n",
        "\n",
        "ax[1].bar(range(10), val_counts, color='red')\n",
        "ax[1].set_xlabel(\"Class Label\")\n",
        "ax[1].set_ylabel(\"Number of Samples\")\n",
        "ax[1].set_title(\"Validation Set\")\n",
        "\n",
        "ax[2].bar(range(10), test_counts, color='green')\n",
        "ax[2].set_xlabel(\"Class Label\")\n",
        "ax[2].set_ylabel(\"Number of Samples\")\n",
        "ax[2].set_title(\"Test Set\")\n",
        "\n",
        "plt.show()"
      ],
      "metadata": {
        "colab": {
          "base_uri": "https://localhost:8080/",
          "height": 350
        },
        "id": "i6Ez1DfncuzB",
        "outputId": "948f10c6-df3a-4ac8-8c25-b6b9be214e46"
      },
      "execution_count": null,
      "outputs": [
        {
          "output_type": "display_data",
          "data": {
            "text/plain": [
              "<Figure size 1080x360 with 3 Axes>"
            ],
            "image/png": "[encoded data removed]"
          },
          "metadata": {
            "needs_background": "light"
          }
        }
      ]
    },
    {
      "cell_type": "markdown",
      "source": [
        "\n",
        "\n",
        "```\n",
        "# This is formatted as code\n",
        "```\n",
        "\n",
        "# 1.2.a"
      ],
      "metadata": {
        "id": "uitsHamDnQbz"
      }
    },
    {
      "cell_type": "markdown",
      "source": [
        "CNN architecture with 2 Convolution Layers"
      ],
      "metadata": {
        "id": "SOpipzg25wdT"
      }
    },
    {
      "cell_type": "code",
      "source": [
        "class CNN_SVHN(nn.Module):\n",
        "    def __init__(self):\n",
        "        super(CNN_SVHN, self).__init__()\n",
        "        self.conv1 = nn.Conv2d(in_channels=3, out_channels=32, kernel_size=3, padding=1)\n",
        "        self.conv2 = nn.Conv2d(in_channels=32, out_channels=64, kernel_size=3, padding=1)\n",
        "        self.fc = nn.Linear(in_features=64 * 8 * 8, out_features=10)\n",
        "\n",
        "    def forward(self, x):\n",
        "        x = F.relu(self.conv1(x))\n",
        "        x = F.max_pool2d(x, 2, 2)\n",
        "        x = F.relu(self.conv2(x))\n",
        "        x = F.max_pool2d(x, 2, 2)\n",
        "        x = x.view(-1, 64 * 8 * 8)\n",
        "        x = self.fc(x)\n",
        "        return x\n"
      ],
      "metadata": {
        "id": "l1IVnNNJiawu"
      },
      "execution_count": null,
      "outputs": []
    },
    {
      "cell_type": "code",
      "source": [
        "def loss_calculator(model, dataloader):\n",
        "    running_loss = 0.0\n",
        "    for i, data in enumerate(dataloader, 0):\n",
        "        inputs, labels = data\n",
        "        inputs = inputs.to(device)\n",
        "        labels = labels.to(device)\n",
        "        optimizer.zero_grad()\n",
        "        inputs = inputs.reshape(-1, 3, 32, 32)\n",
        "        outputs = model(inputs)\n",
        "        loss = criterion(outputs, labels)\n",
        "        loss.backward()\n",
        "        optimizer.step()\n",
        "        running_loss += loss.item()\n",
        "    return running_loss / len(dataloader)\n",
        "\n",
        "def accuracy_calculator(model, dataloader):\n",
        "    total = 0\n",
        "    correct = 0\n",
        "    with torch.no_grad():\n",
        "        for data in dataloader:\n",
        "            images, labels = data\n",
        "            images = images.to(device)\n",
        "            labels = labels.to(device)\n",
        "            outputs = model(images)\n",
        "            _, predicted = torch.max(outputs.data, 1)\n",
        "            total += labels.size(0)\n",
        "            correct += (predicted == labels).sum().item()\n",
        "    return 100 * (correct / total)"
      ],
      "metadata": {
        "id": "C6iXBBKSPion"
      },
      "execution_count": null,
      "outputs": []
    },
    {
      "cell_type": "markdown",
      "source": [
        "Training the model using the Cross-Entropy Loss."
      ],
      "metadata": {
        "id": "3jUqjflh5129"
      }
    },
    {
      "cell_type": "code",
      "source": [
        "# Initialize a WandB run\n",
        "wandb.init(project=\"CrossEntropyLossTraining\")\n",
        "\n",
        "# Define the CNN_SVHN architecture\n",
        "model = CNN_SVHN()\n",
        "model = model.to(device)\n",
        "\n",
        "# Define the loss function\n",
        "criterion = nn.CrossEntropyLoss()\n",
        "\n",
        "# Define the optimizer\n",
        "optimizer = optim.SGD(model.parameters(), lr=0.001, momentum=0.9)\n",
        "\n",
        "# Define the data transform and loading\n",
        "transform = transforms.Compose([transforms.Resize((32,32)),\n",
        "                                transforms.ToTensor(),\n",
        "                                transforms.Normalize((0.5, 0.5, 0.5), (0.5, 0.5, 0.5))])\n",
        "\n",
        "trainset = datasets.SVHN(root='./data', split='train', download=True, transform=transform)\n",
        "testset = datasets.SVHN(root='./data', split='test', download=True, transform=transform)\n",
        "valset = datasets.SVHN(root='./data', split='extra', download=True, transform=transform)"
      ],
      "metadata": {
        "colab": {
          "base_uri": "https://localhost:8080/",
          "height": 356,
          "referenced_widgets": [
            "50184f3af0194dc088935d13dc4477b0",
            "53930e85406441e5b3e51b22e485990a",
            "816f4f626d7d48aeb170840fd378b8bf",
            "c34d7f67ac2e4b20a8d21dc69c27705c",
            "1a132e1ef44649a08726ae9bbb86d22a",
            "9a19adef495c44caa187c52db0e6ebbe",
            "b3bed0f6eff24654ab64d30b08b79813",
            "3ffdf8edab2b460eb25ad0a23e6738ca",
            "aff67dcd66084c92a051f7509dcd98da",
            "96596d74fa2845ddbca12571598bda03",
            "1856157ecb4e44b6ad9cb96a8f9ed623",
            "f340e38ab4ff49fd86f598172c47f4f4",
            "3d762c750a954a5bbef5b3a9beac80e5",
            "d5acb0d854344f6895e8a8c4854a79b6",
            "c4fa7d2cbabf4f5ca3c1d9c7478ac560",
            "1ebef37a05ba4ca88927af927f962a67",
            "c690b3fc3f4a400381efddbadb5b9045",
            "c6a0aa9ee30f49b483e1488622b0706f",
            "a0bc6eedc28643d594b234fe80b5290a",
            "e5e9c93138e648a7a646d4c66f25bc21",
            "896b393a69bd4b929e6e83fda60af4f2",
            "e3d33a5d0e234bf0b14159ef3f788eda",
            "2d29cc3e9c6f433bbd6b9d6b2684c169",
            "b23ead5e3c2e4cc386baf52143d59a1d",
            "f3c0bc46d36d4206aec41f1cca18d8e2",
            "ffb31332eb6a47fa98b01a80c9305ccb",
            "d03a4f5f52494d0db0c4a3cccef58def",
            "131a226c6e834cda8f5fc54b2f35e884",
            "0728ec57338a448aa8e9047ed285edc5",
            "b6b37c90f4a34883a0b7ef5ef77a5287",
            "e5286ecef06d4d57826d624d855f2add",
            "f5c52faaa5ae4a48aea58a2cc5b74201",
            "a46ab0d54485422291f6990771f582ca"
          ]
        },
        "id": "1SLtlpKu-eMD",
        "outputId": "45444d6c-045a-4998-9884-d8bd9db38286"
      },
      "execution_count": null,
      "outputs": [
        {
          "output_type": "display_data",
          "data": {
            "text/plain": [
              "<IPython.core.display.HTML object>"
            ],
            "text/html": [
              "Finishing last run (ID:cf2tcmr1) before initializing another..."
            ]
          },
          "metadata": {}
        },
        {
          "output_type": "display_data",
          "data": {
            "text/plain": [
              "<IPython.core.display.HTML object>"
            ],
            "text/html": [
              "Waiting for W&B process to finish... <strong style=\"color:green\">(success).</strong>"
            ]
          },
          "metadata": {}
        },
        {
          "output_type": "display_data",
          "data": {
            "text/plain": [
              "<IPython.core.display.HTML object>"
            ],
            "text/html": [
              " View run <strong style=\"color:#cdcd00\">radiant-aardvark-30</strong> at: <a href='https://wandb.ai/atif20523/housenumbers/runs/cf2tcmr1' target=\"_blank\">https://wandb.ai/atif20523/housenumbers/runs/cf2tcmr1</a><br/>Synced 4 W&B file(s), 0 media file(s), 0 artifact file(s) and 0 other file(s)"
            ]
          },
          "metadata": {}
        },
        {
          "output_type": "display_data",
          "data": {
            "text/plain": [
              "<IPython.core.display.HTML object>"
            ],
            "text/html": [
              "Find logs at: <code>./wandb/run-20230220_120532-cf2tcmr1/logs</code>"
            ]
          },
          "metadata": {}
        },
        {
          "output_type": "display_data",
          "data": {
            "text/plain": [
              "<IPython.core.display.HTML object>"
            ],
            "text/html": [
              "Successfully finished last run (ID:cf2tcmr1). Initializing new run:<br/>"
            ]
          },
          "metadata": {}
        },
        {
          "output_type": "display_data",
          "data": {
            "text/plain": [
              "<IPython.core.display.HTML object>"
            ],
            "text/html": [
              "Tracking run with wandb version 0.13.10"
            ]
          },
          "metadata": {}
        },
        {
          "output_type": "display_data",
          "data": {
            "text/plain": [
              "<IPython.core.display.HTML object>"
            ],
            "text/html": [
              "Run data is saved locally in <code>/content/wandb/run-20230220_120544-tcy6ibyp</code>"
            ]
          },
          "metadata": {}
        },
        {
          "output_type": "display_data",
          "data": {
            "text/plain": [
              "<IPython.core.display.HTML object>"
            ],
            "text/html": [
              "Syncing run <strong><a href='https://wandb.ai/atif20523/CrossEntropyLossTraining/runs/tcy6ibyp' target=\"_blank\">still-butterfly-24</a></strong> to <a href='https://wandb.ai/atif20523/CrossEntropyLossTraining' target=\"_blank\">Weights & Biases</a> (<a href='https://wandb.me/run' target=\"_blank\">docs</a>)<br/>"
            ]
          },
          "metadata": {}
        },
        {
          "output_type": "display_data",
          "data": {
            "text/plain": [
              "<IPython.core.display.HTML object>"
            ],
            "text/html": [
              " View project at <a href='https://wandb.ai/atif20523/CrossEntropyLossTraining' target=\"_blank\">https://wandb.ai/atif20523/CrossEntropyLossTraining</a>"
            ]
          },
          "metadata": {}
        },
        {
          "output_type": "display_data",
          "data": {
            "text/plain": [
              "<IPython.core.display.HTML object>"
            ],
            "text/html": [
              " View run at <a href='https://wandb.ai/atif20523/CrossEntropyLossTraining/runs/tcy6ibyp' target=\"_blank\">https://wandb.ai/atif20523/CrossEntropyLossTraining/runs/tcy6ibyp</a>"
            ]
          },
          "metadata": {}
        },
        {
          "output_type": "stream",
          "name": "stdout",
          "text": [
            "Downloading http://ufldl.stanford.edu/housenumbers/train_32x32.mat to ./data/train_32x32.mat\n"
          ]
        },
        {
          "output_type": "display_data",
          "data": {
            "text/plain": [
              "  0%|          | 0/182040794 [00:00<?, ?it/s]"
            ],
            "application/vnd.jupyter.widget-view+json": {
              "version_major": 2,
              "version_minor": 0,
              "model_id": "50184f3af0194dc088935d13dc4477b0"
            }
          },
          "metadata": {}
        },
        {
          "output_type": "stream",
          "name": "stdout",
          "text": [
            "Downloading http://ufldl.stanford.edu/housenumbers/test_32x32.mat to ./data/test_32x32.mat\n"
          ]
        },
        {
          "output_type": "display_data",
          "data": {
            "text/plain": [
              "  0%|          | 0/64275384 [00:00<?, ?it/s]"
            ],
            "application/vnd.jupyter.widget-view+json": {
              "version_major": 2,
              "version_minor": 0,
              "model_id": "f340e38ab4ff49fd86f598172c47f4f4"
            }
          },
          "metadata": {}
        },
        {
          "output_type": "stream",
          "name": "stdout",
          "text": [
            "Downloading http://ufldl.stanford.edu/housenumbers/extra_32x32.mat to ./data/extra_32x32.mat\n"
          ]
        },
        {
          "output_type": "display_data",
          "data": {
            "text/plain": [
              "  0%|          | 0/1329278602 [00:00<?, ?it/s]"
            ],
            "application/vnd.jupyter.widget-view+json": {
              "version_major": 2,
              "version_minor": 0,
              "model_id": "2d29cc3e9c6f433bbd6b9d6b2684c169"
            }
          },
          "metadata": {}
        }
      ]
    },
    {
      "cell_type": "markdown",
      "source": [
        "## Defining the loaders to be used to train the model"
      ],
      "metadata": {
        "id": "mL0mfpAMlEVN"
      }
    },
    {
      "cell_type": "code",
      "source": [
        "trainloader = torch.utils.data.DataLoader(trainset, batch_size=32, shuffle=True)\n",
        "testloader = torch.utils.data.DataLoader(testset, batch_size=32, shuffle=False)\n",
        "valloader = torch.utils.data.DataLoader(valset, batch_size=32, shuffle=False)"
      ],
      "metadata": {
        "id": "BQyiBasph8Rh"
      },
      "execution_count": null,
      "outputs": []
    },
    {
      "cell_type": "code",
      "source": [
        "# Train the model\n",
        "\n",
        "for epoch in range(10):\n",
        "\n",
        "    # Training loss\n",
        "    train_loss = loss_calculator(model, trainloader)\n",
        "    wandb.log({'Training Loss': train_loss})\n",
        "    print(\"Training Loss: \", train_loss)\n",
        "\n",
        "    #Training accuracy\n",
        "    train_accuracy = accuracy_calculator(model, trainloader)\n",
        "    wandb.log({'Training Accuracy': train_accuracy})\n",
        "    print('Training Accuracy: {:.5f} %'.format(train_accuracy))\n",
        "\n",
        "    # Validation Loss\n",
        "    validation_loss = loss_calculator(model, valloader) # pass valloader\n",
        "    wandb.log({'Validation Loss': validation_loss})\n",
        "    print(\"Validation Loss: \", validation_loss)\n",
        "\n",
        "    # Validation accuracy\n",
        "    validation_accuracy = accuracy_calculator(model, valloader)\n",
        "    wandb.log({'Validation Accuracy': validation_accuracy})\n",
        "    print('Validation Accuracy: {:.5f} %'.format(validation_accuracy))\n",
        "\n",
        "    print(\"\\nEpochs completed: \", epoch+1)\n",
        "    print()\n",
        "\n",
        "print('Finished Training')\n"
      ],
      "metadata": {
        "colab": {
          "base_uri": "https://localhost:8080/"
        },
        "id": "R1cphX34obke",
        "outputId": "6fc4fa94-8393-4d23-fe13-f4a23da30834"
      },
      "execution_count": null,
      "outputs": [
        {
          "output_type": "stream",
          "name": "stdout",
          "text": [
            "Training Loss:  1.9854501517318743\n",
            "Training Accuracy: 66.28991 %\n",
            "Validation Loss:  0.37249526658538357\n",
            "Validation Accuracy: 92.95390 %\n",
            "\n",
            "Epochs completed:  1\n",
            "\n",
            "Training Loss:  0.5299452937065774\n",
            "Training Accuracy: 87.01285 %\n",
            "Validation Loss:  0.25962643152376536\n",
            "Validation Accuracy: 94.08413 %\n",
            "\n",
            "Epochs completed:  2\n",
            "\n",
            "Training Loss:  0.46755901230702496\n",
            "Training Accuracy: 88.59904 %\n",
            "Validation Loss:  0.22571339436746643\n",
            "Validation Accuracy: 94.69641 %\n",
            "\n",
            "Epochs completed:  3\n",
            "\n",
            "Training Loss:  0.4300343887904846\n",
            "Training Accuracy: 89.38531 %\n",
            "Validation Loss:  0.2046079793341907\n",
            "Validation Accuracy: 95.05583 %\n",
            "\n",
            "Epochs completed:  4\n",
            "\n",
            "Training Loss:  0.401295516597652\n",
            "Training Accuracy: 89.84261 %\n",
            "Validation Loss:  0.18952920084740027\n",
            "Validation Accuracy: 95.33072 %\n",
            "\n",
            "Epochs completed:  5\n",
            "\n",
            "Training Loss:  0.3813056267797947\n",
            "Training Accuracy: 90.21936 %\n",
            "Validation Loss:  0.1781339600935261\n",
            "Validation Accuracy: 95.51523 %\n",
            "\n",
            "Epochs completed:  6\n",
            "\n",
            "Training Loss:  0.36496661014887444\n",
            "Training Accuracy: 90.46917 %\n",
            "Validation Loss:  0.16931784719874912\n",
            "Validation Accuracy: 95.69974 %\n",
            "\n",
            "Epochs completed:  7\n",
            "\n",
            "Training Loss:  0.3518483379587336\n",
            "Training Accuracy: 91.02748 %\n",
            "Validation Loss:  0.16211719616019266\n",
            "Validation Accuracy: 95.84886 %\n",
            "\n",
            "Epochs completed:  8\n",
            "\n",
            "Training Loss:  0.34122769137250675\n",
            "Training Accuracy: 91.10802 %\n",
            "Validation Loss:  0.1561730608155631\n",
            "Validation Accuracy: 95.95900 %\n",
            "\n",
            "Epochs completed:  9\n",
            "\n",
            "Training Loss:  0.3330874022242804\n",
            "Training Accuracy: 91.24452 %\n",
            "Validation Loss:  0.1510308145558665\n",
            "Validation Accuracy: 96.07893 %\n",
            "\n",
            "Epochs completed:  10\n",
            "\n",
            "Finished Training\n"
          ]
        }
      ]
    },
    {
      "cell_type": "markdown",
      "source": [
        "## Accuracy and F1-score"
      ],
      "metadata": {
        "id": "_89kaYV9Tiff"
      }
    },
    {
      "cell_type": "code",
      "source": [
        "from sklearn.metrics import confusion_matrix, f1_score\n",
        "\n",
        "wandb.init(project=\"accuracy_and_f1Score\")\n",
        "\n",
        "# Define the confusion matrix\n",
        "def plot_confusion_matrix(conf_matrix):\n",
        "    conf_matrix = conf_matrix.astype('float') / conf_matrix.sum(axis=1)[:, np.newaxis]\n",
        "    print(conf_matrix)\n",
        "    wandb.log({'Confusion Matrix': wandb.Image(conf_matrix, caption='Confusion Matrix')})\n",
        "\n",
        "correct = 0\n",
        "total = 0\n",
        "conf_matrix = np.zeros((10,10))\n",
        "\n",
        "with torch.no_grad():\n",
        "    for data in testloader:\n",
        "        images, labels = data\n",
        "        images = images.to(device)\n",
        "        labels = labels.to(device)\n",
        "        outputs = model(images)\n",
        "        _, predicted = torch.max(outputs.data, 1)\n",
        "        total += labels.size(0)\n",
        "        correct += (predicted == labels).sum().item()\n",
        "        conf_matrix += confusion_matrix(labels.detach().cpu().numpy(), predicted.detach().cpu().numpy(), labels=list(range(10)))\n",
        "\n",
        "accuracy = 100 * correct / total\n",
        "f1 = f1_score(labels.detach().cpu().numpy(), predicted.detach().cpu().numpy(), average='weighted')\n",
        "\n",
        "# Log the Accuracy, F1-Score and Confusion Matrix\n",
        "wandb.log({'Test Accuracy': accuracy, 'Test F1-Score': f1})\n",
        "\n",
        "plot_confusion_matrix(conf_matrix)\n",
        "\n",
        "print('Test Accuracy: {:.5f}%'.format(accuracy))\n",
        "print('Test F1-Score: {:.2f}'.format(f1))"
      ],
      "metadata": {
        "id": "DzkyeHFV4flz",
        "colab": {
          "base_uri": "https://localhost:8080/"
        },
        "outputId": "c2f31330-bbbd-4527-aeb9-883c4129f9a9"
      },
      "execution_count": null,
      "outputs": [
        {
          "output_type": "stream",
          "name": "stdout",
          "text": [
            "[[0.90137615 0.00802752 0.01261468 0.01204128 0.00458716 0.00229358\n",
            "  0.0212156  0.00401376 0.01433486 0.01949541]\n",
            " [0.01176701 0.90037262 0.00960973 0.01666994 0.02765248 0.00411845\n",
            "  0.00411845 0.01196313 0.00941361 0.00431457]\n",
            " [0.00168715 0.00457942 0.93323692 0.02410219 0.0098819  0.00385635\n",
            "  0.0021692  0.00650759 0.00650759 0.00747168]\n",
            " [0.00242887 0.00693963 0.01839001 0.90423317 0.0055517  0.01734906\n",
            "  0.00520472 0.00242887 0.02047189 0.01700208]\n",
            " [0.0051526  0.01307967 0.01030519 0.01189061 0.93460166 0.00198177\n",
            "  0.00673801 0.00317083 0.0051526  0.00792707]\n",
            " [0.00209732 0.00503356 0.00713087 0.04530201 0.00964765 0.89177852\n",
            "  0.0113255  0.00251678 0.01174497 0.01342282]\n",
            " [0.01062215 0.0091047  0.00455235 0.02326758 0.02326758 0.03844208\n",
            "  0.84269095 0.0030349  0.03692463 0.00809307]\n",
            " [0.00643883 0.02526003 0.02080238 0.02278356 0.00792472 0.00594354\n",
            "  0.00396236 0.89153046 0.00495295 0.01040119]\n",
            " [0.00722892 0.00481928 0.00722892 0.05       0.00963855 0.01807229\n",
            "  0.02289157 0.         0.85421687 0.02590361]\n",
            " [0.0137931  0.00250784 0.04200627 0.01630094 0.01003135 0.00877743\n",
            "  0.00626959 0.00564263 0.01128527 0.88338558]]\n",
            "Test Accuracy: 89.95851%\n",
            "Test F1-Score: 0.85\n"
          ]
        }
      ]
    },
    {
      "cell_type": "markdown",
      "source": [
        "## 1.3.a"
      ],
      "metadata": {
        "id": "27v074zwIVhO"
      }
    },
    {
      "cell_type": "code",
      "source": [
        "def loss_calculator_RESNET18(model, dataloader):\n",
        "    running_loss = 0.0\n",
        "    for i, data in enumerate(trainloader, 0):\n",
        "        inputs, labels = data\n",
        "        inputs = inputs.to(device)\n",
        "        labels = labels.to(device)\n",
        "        optimizer.zero_grad()\n",
        "        inputs = inputs.reshape(-1, 3, 32, 32)\n",
        "        outputs = model(inputs)\n",
        "        torch.set_grad_enabled(True)\n",
        "        loss = criterion(outputs, labels)\n",
        "        loss.requires_grad = True\n",
        "        loss.backward()\n",
        "        optimizer.step()\n",
        "        running_loss += loss.item()\n",
        "    return running_loss / len(dataloader)"
      ],
      "metadata": {
        "id": "rZyFAwSuyphV"
      },
      "execution_count": null,
      "outputs": []
    },
    {
      "cell_type": "markdown",
      "source": [
        "## Training another classification model with a fine-tuned Resnet-18 architecture"
      ],
      "metadata": {
        "id": "4EhlNUEulPdn"
      }
    },
    {
      "cell_type": "code",
      "source": [
        "# Initialize W&B\n",
        "wandb.init(project='ResNet18_FineTuning')\n",
        "\n",
        "# Load the pretrained ResNet-18 model\n",
        "model = torchvision.models.resnet18(pretrained=True)\n",
        "\n",
        "# Freeze all the layers except the last one\n",
        "for param in model.parameters():\n",
        "    param.requires_grad = False\n",
        "model.fc.requires_grad = True\n",
        "\n",
        "model = model.to(device)\n",
        "\n",
        "# Define the loss function and optimizer\n",
        "criterion = nn.CrossEntropyLoss()\n",
        "optimizer = optim.SGD(model.fc.parameters(), lr=0.001, momentum=0.9)\n",
        "\n",
        "# Train the model\n",
        "for epoch in range(1):  # loop over the dataset multiple times\n",
        "\n",
        "    # Training loss\n",
        "    train_loss = loss_calculator_RESNET18(model, trainloader)\n",
        "    wandb.log({'Training Loss': train_loss})\n",
        "    print(\"Training Loss: \", train_loss)\n",
        "\n",
        "    #Training accuracy\n",
        "    train_accuracy = accuracy_calculator(model, trainloader)\n",
        "    wandb.log({'Training Accuracy': train_accuracy})\n",
        "    print('Training Accuracy: {:.5f} %'.format(train_accuracy))\n",
        "\n",
        "    # Validation Loss\n",
        "    validation_loss = loss_calculator_RESNET18(model, valloader)\n",
        "    wandb.log({'Validation Loss': validation_loss})\n",
        "    print(\"Validation Loss: \", validation_loss)\n",
        "\n",
        "    # Validation accuracy\n",
        "    validation_accuracy = accuracy_calculator(model, valloader)\n",
        "    wandb.log({'Validation Accuracy': validation_accuracy})\n",
        "    print('Validation Accuracy: {:.5f} %'.format(validation_accuracy))\n",
        "\n",
        "    print(\"\\nEpochs completed: \", epoch+1)\n",
        "    \n",
        "print('Finished Training')\n"
      ],
      "metadata": {
        "id": "E5iA80uXIbw-",
        "colab": {
          "base_uri": "https://localhost:8080/",
          "height": 847,
          "referenced_widgets": [
            "e883f6d06c3e46a6854eeff954d4f82f",
            "f9f16a255dcd4f1685ea4167e6b0b0f7",
            "68be14e067d148d38e06f2f6763e23af",
            "cf17477120e04530b82852c7f9fe1449",
            "a050694bdad0435b8676ae735097ef59",
            "921ca7baa83c47dc80b90e9a3d7dae85",
            "90529be82a19424ca19b76d74e24f56d",
            "254b14e576954042bd95ead2f9f72b74",
            "f3ec8a6dc7764ca49a4919479f03a9dc",
            "f1ad793c51cb45dcacf8c031140d1c31",
            "008b93c175c54350a03b79d6db790649",
            "d3f86b0521984b22945b0aed25ad887c",
            "f8f229d1eecb45fab459eb65700a3bdc",
            "1e967c40b09748518afa5f184d7bc8db",
            "a27ca3f9eab54b19871d93230fd5eb89",
            "5cf0b14416a942338ebfaa0471406b68",
            "1a9542d7b1b1488ea0ebd8d309f8e90f",
            "bd3f7634dc81480083cb4ad61ee348a3",
            "7a7045cd4cf34acbab82f462298e2ebb"
          ]
        },
        "outputId": "6b3f9b5f-fcb9-47df-833f-61563fcc43b9"
      },
      "execution_count": null,
      "outputs": [
        {
          "output_type": "display_data",
          "data": {
            "text/plain": [
              "<IPython.core.display.HTML object>"
            ],
            "text/html": [
              "Finishing last run (ID:tcy6ibyp) before initializing another..."
            ]
          },
          "metadata": {}
        },
        {
          "output_type": "display_data",
          "data": {
            "text/plain": [
              "<IPython.core.display.HTML object>"
            ],
            "text/html": [
              "Waiting for W&B process to finish... <strong style=\"color:green\">(success).</strong>"
            ]
          },
          "metadata": {}
        },
        {
          "output_type": "display_data",
          "data": {
            "text/plain": [
              "VBox(children=(Label(value='0.001 MB of 0.001 MB uploaded (0.000 MB deduped)\\r'), FloatProgress(value=1.0, max…"
            ],
            "application/vnd.jupyter.widget-view+json": {
              "version_major": 2,
              "version_minor": 0,
              "model_id": "e883f6d06c3e46a6854eeff954d4f82f"
            }
          },
          "metadata": {}
        },
        {
          "output_type": "display_data",
          "data": {
            "text/plain": [
              "<IPython.core.display.HTML object>"
            ],
            "text/html": [
              "<style>\n",
              "    table.wandb td:nth-child(1) { padding: 0 10px; text-align: left ; width: auto;} td:nth-child(2) {text-align: left ; width: 100%}\n",
              "    .wandb-row { display: flex; flex-direction: row; flex-wrap: wrap; justify-content: flex-start; width: 100% }\n",
              "    .wandb-col { display: flex; flex-direction: column; flex-basis: 100%; flex: 1; padding: 10px; }\n",
              "    </style>\n",
              "<div class=\"wandb-row\"><div class=\"wandb-col\"><h3>Run history:</h3><br/><table class=\"wandb\"><tr><td>Test Accuracy</td><td>▁</td></tr><tr><td>Test F1-Score</td><td>▁</td></tr><tr><td>Training Accuracy</td><td>▁▇▇▇██████</td></tr><tr><td>Training Loss</td><td>█▂▂▁▁▁▁▁▁▁</td></tr><tr><td>Validation Accuracy</td><td>▁▄▅▆▆▇▇▇██</td></tr><tr><td>Validation Loss</td><td>█▄▃▃▂▂▂▁▁▁</td></tr></table><br/></div><div class=\"wandb-col\"><h3>Run summary:</h3><br/><table class=\"wandb\"><tr><td>Test Accuracy</td><td>89.95851</td></tr><tr><td>Test F1-Score</td><td>0.85417</td></tr><tr><td>Training Accuracy</td><td>91.24452</td></tr><tr><td>Training Loss</td><td>0.33309</td></tr><tr><td>Validation Accuracy</td><td>96.07893</td></tr><tr><td>Validation Loss</td><td>0.15103</td></tr></table><br/></div></div>"
            ]
          },
          "metadata": {}
        },
        {
          "output_type": "display_data",
          "data": {
            "text/plain": [
              "<IPython.core.display.HTML object>"
            ],
            "text/html": [
              " View run <strong style=\"color:#cdcd00\">still-butterfly-24</strong> at: <a href='https://wandb.ai/atif20523/CrossEntropyLossTraining/runs/tcy6ibyp' target=\"_blank\">https://wandb.ai/atif20523/CrossEntropyLossTraining/runs/tcy6ibyp</a><br/>Synced 5 W&B file(s), 1 media file(s), 0 artifact file(s) and 0 other file(s)"
            ]
          },
          "metadata": {}
        },
        {
          "output_type": "display_data",
          "data": {
            "text/plain": [
              "<IPython.core.display.HTML object>"
            ],
            "text/html": [
              "Find logs at: <code>./wandb/run-20230220_120544-tcy6ibyp/logs</code>"
            ]
          },
          "metadata": {}
        },
        {
          "output_type": "display_data",
          "data": {
            "text/plain": [
              "<IPython.core.display.HTML object>"
            ],
            "text/html": [
              "Successfully finished last run (ID:tcy6ibyp). Initializing new run:<br/>"
            ]
          },
          "metadata": {}
        },
        {
          "output_type": "display_data",
          "data": {
            "text/plain": [
              "<IPython.core.display.HTML object>"
            ],
            "text/html": [
              "Tracking run with wandb version 0.13.10"
            ]
          },
          "metadata": {}
        },
        {
          "output_type": "display_data",
          "data": {
            "text/plain": [
              "<IPython.core.display.HTML object>"
            ],
            "text/html": [
              "Run data is saved locally in <code>/content/wandb/run-20230220_131327-9s9ild5y</code>"
            ]
          },
          "metadata": {}
        },
        {
          "output_type": "display_data",
          "data": {
            "text/plain": [
              "<IPython.core.display.HTML object>"
            ],
            "text/html": [
              "Syncing run <strong><a href='https://wandb.ai/atif20523/ResNet18_FineTuning/runs/9s9ild5y' target=\"_blank\">comfy-serenity-4</a></strong> to <a href='https://wandb.ai/atif20523/ResNet18_FineTuning' target=\"_blank\">Weights & Biases</a> (<a href='https://wandb.me/run' target=\"_blank\">docs</a>)<br/>"
            ]
          },
          "metadata": {}
        },
        {
          "output_type": "display_data",
          "data": {
            "text/plain": [
              "<IPython.core.display.HTML object>"
            ],
            "text/html": [
              " View project at <a href='https://wandb.ai/atif20523/ResNet18_FineTuning' target=\"_blank\">https://wandb.ai/atif20523/ResNet18_FineTuning</a>"
            ]
          },
          "metadata": {}
        },
        {
          "output_type": "display_data",
          "data": {
            "text/plain": [
              "<IPython.core.display.HTML object>"
            ],
            "text/html": [
              " View run at <a href='https://wandb.ai/atif20523/ResNet18_FineTuning/runs/9s9ild5y' target=\"_blank\">https://wandb.ai/atif20523/ResNet18_FineTuning/runs/9s9ild5y</a>"
            ]
          },
          "metadata": {}
        },
        {
          "output_type": "stream",
          "name": "stderr",
          "text": [
            "/usr/local/lib/python3.8/dist-packages/torchvision/models/_utils.py:208: UserWarning: The parameter 'pretrained' is deprecated since 0.13 and may be removed in the future, please use 'weights' instead.\n",
            "  warnings.warn(\n",
            "/usr/local/lib/python3.8/dist-packages/torchvision/models/_utils.py:223: UserWarning: Arguments other than a weight enum or `None` for 'weights' are deprecated since 0.13 and may be removed in the future. The current behavior is equivalent to passing `weights=ResNet18_Weights.IMAGENET1K_V1`. You can also use `weights=ResNet18_Weights.DEFAULT` to get the most up-to-date weights.\n",
            "  warnings.warn(msg)\n",
            "Downloading: \"https://download.pytorch.org/models/resnet18-f37072fd.pth\" to /root/.cache/torch/hub/checkpoints/resnet18-f37072fd.pth\n"
          ]
        },
        {
          "output_type": "display_data",
          "data": {
            "text/plain": [
              "  0%|          | 0.00/44.7M [00:00<?, ?B/s]"
            ],
            "application/vnd.jupyter.widget-view+json": {
              "version_major": 2,
              "version_minor": 0,
              "model_id": "f3ec8a6dc7764ca49a4919479f03a9dc"
            }
          },
          "metadata": {}
        },
        {
          "output_type": "stream",
          "name": "stdout",
          "text": [
            "Training Loss:  13.602609575679729\n",
            "Training Accuracy: 0.08327 %\n",
            "Validation Loss:  1.8731173447405434\n",
            "Validation Accuracy: 0.07362 %\n",
            "\n",
            "Epochs completed:  1\n",
            "Finished Training\n"
          ]
        }
      ]
    },
    {
      "cell_type": "markdown",
      "source": [
        "## 1.3.b"
      ],
      "metadata": {
        "id": "DK5vbORauG7L"
      }
    },
    {
      "cell_type": "code",
      "source": [
        "# Calculate the accuracy and F1-Score on the test set\n",
        "\n",
        "wandb.init(project=\"accuracy_f1score_1.3.b\")\n",
        "test_acc = accuracy_calculator(model, testloader)\n",
        "predictions = []\n",
        "ground_truth = []\n",
        "\n",
        "with torch.no_grad():\n",
        "    for data in testloader:\n",
        "        images, labels = data\n",
        "        images = images.to(device)\n",
        "        labels = labels.to(device)\n",
        "        outputs = model(images)\n",
        "        _, predicted = torch.max(outputs.data, 1)\n",
        "        predictions.extend(predicted.tolist())\n",
        "        ground_truth.extend(labels.tolist())\n",
        "        \n",
        "# Log the accuracy and F1-Score\n",
        "wandb.log({'Training Accuracy': test_acc})\n",
        "print('Training Accuracy: {:.5f} %'.format(train_accuracy))\n",
        "\n",
        "# Calculate the F1-Score\n",
        "f1 = f1_score(ground_truth, predictions, average='macro')\n",
        "wandb.log({'Test F1-Score': f1})\n",
        "print('Training Accuracy: {:.5f}%'.format(test_acc))\n",
        "print('Training F1-Score: {:.5f}'.format(f1))\n",
        "\n",
        "# Log the confusion matrix\n",
        "cm = confusion_matrix(ground_truth, predictions)\n",
        "print(cm)\n",
        "wandb.log({'Confusion Matrix': [cm]})"
      ],
      "metadata": {
        "id": "Qfe5nVCOuGlL",
        "colab": {
          "base_uri": "https://localhost:8080/"
        },
        "outputId": "797166aa-f68d-45a7-fb98-bee5d44f8212"
      },
      "execution_count": null,
      "outputs": [
        {
          "output_type": "stream",
          "name": "stderr",
          "text": [
            "\u001b[34m\u001b[1mwandb\u001b[0m: \u001b[33mWARNING\u001b[0m Serializing object of type ndarray that is 7904408 bytes\n"
          ]
        },
        {
          "output_type": "stream",
          "name": "stdout",
          "text": [
            "Training Accuracy: 0.08327 %\n",
            "Training Accuracy: 0.07299%\n",
            "Training F1-Score: 0.00001\n",
            "[[ 2  0  1 ...  0 11  1]\n",
            " [ 1  4  6 ...  1  9  8]\n",
            " [ 1  9  6 ...  7  7  3]\n",
            " ...\n",
            " [ 0  0  0 ...  0  0  0]\n",
            " [ 0  0  0 ...  0  0  0]\n",
            " [ 0  0  0 ...  0  0  0]]\n"
          ]
        }
      ]
    },
    {
      "cell_type": "code",
      "source": [
        "# Define the ResNet-18 model\n",
        "model = torchvision.models.resnet18(pretrained=True)\n",
        "model = model.to(device)\n",
        "\n",
        "# Remove the last layer (the classification layer)\n",
        "new_classifier = torch.nn.Sequential(*list(model.children())[:-1])\n",
        "\n",
        "# Freeze all layers\n",
        "for param in new_classifier.parameters():\n",
        "    param.requiresGrad = False\n",
        "\n",
        "# Extract features from the training set\n",
        "features_train = []\n",
        "labels_train = []\n",
        "for data in trainloader:\n",
        "    images, labels = data\n",
        "    images = images.to(device)\n",
        "    labels = labels.to(device)\n",
        "    features = new_classifier(images)\n",
        "    features = features.type(torch.FloatTensor).to(device)\n",
        "    features = features.view(features.size(0), -1)\n",
        "    features_train.append(features.cpu().detach().numpy())\n",
        "    labels_train.append(labels.cpu().numpy())\n",
        "    \n",
        "# Concatenate all features and labels\n",
        "features_train = np.concatenate(features_train)\n",
        "labels_train = np.concatenate(labels_train)\n",
        "\n",
        "# Extract features from the validation set\n",
        "features_val = []\n",
        "labels_val = []\n",
        "for data in testloader:\n",
        "    images, labels = data\n",
        "    images = images.to(device)\n",
        "    labels = labels.to(device)\n",
        "    features = new_classifier(images)\n",
        "    features_val.append(features.cpu().detach().numpy())\n",
        "    labels_val.append(labels.cpu().numpy())\n",
        "\n",
        "# Concatenate all features and labels\n",
        "features_val = np.concatenate(features_val)\n",
        "labels_val = np.concatenate(labels_val)\n",
        "\n",
        "# Visualize the training set in 2D using t-SNE\n",
        "tsne = TSNE(n_components=2)\n",
        "features_tsne = tsne.fit_transform(features_train)\n",
        "plt.scatter(features_tsne[:, 0], features_tsne[:, 1], c=labels_train)\n",
        "plt.show()\n",
        "\n",
        "# Visualize the validation set in 3D using t-SNE\n",
        "tsne = TSNE(n_components=3)\n",
        "features_tsne = tsne.fit_transform(features_val)\n",
        "fig = plt.figure()\n",
        "ax = fig.add_subplot(111, projection='3d')\n",
        "ax.scatter(features_tsne[:, 0], features_tsne[:, 1], features_tsne[:, 2], c=labels_val)\n",
        "plt.show()"
      ],
      "metadata": {
        "id": "W5HHoW2VrFqV",
        "colab": {
          "base_uri": "https://localhost:8080/",
          "height": 874
        },
        "outputId": "6f41cd85-c616-4cd5-f705-f9c3cc8a3d3f"
      },
      "execution_count": null,
      "outputs": [
        {
          "output_type": "stream",
          "name": "stderr",
          "text": [
            "/usr/local/lib/python3.8/dist-packages/torchvision/models/_utils.py:208: UserWarning: The parameter 'pretrained' is deprecated since 0.13 and may be removed in the future, please use 'weights' instead.\n",
            "  warnings.warn(\n",
            "/usr/local/lib/python3.8/dist-packages/torchvision/models/_utils.py:223: UserWarning: Arguments other than a weight enum or `None` for 'weights' are deprecated since 0.13 and may be removed in the future. The current behavior is equivalent to passing `weights=ResNet18_Weights.IMAGENET1K_V1`. You can also use `weights=ResNet18_Weights.DEFAULT` to get the most up-to-date weights.\n",
            "  warnings.warn(msg)\n",
            "/usr/local/lib/python3.8/dist-packages/sklearn/manifold/_t_sne.py:780: FutureWarning: The default initialization in TSNE will change from 'random' to 'pca' in 1.2.\n",
            "  warnings.warn(\n",
            "/usr/local/lib/python3.8/dist-packages/sklearn/manifold/_t_sne.py:790: FutureWarning: The default learning rate in TSNE will change from 200.0 to 'auto' in 1.2.\n",
            "  warnings.warn(\n"
          ]
        },
        {
          "output_type": "display_data",
          "data": {
            "text/plain": [
              "<Figure size 432x288 with 1 Axes>"
            ],
            "image/png": "[encoded data removed]"
          },
          "metadata": {
            "needs_background": "light"
          }
        },
        {
          "output_type": "stream",
          "name": "stderr",
          "text": [
            "/usr/local/lib/python3.8/dist-packages/sklearn/manifold/_t_sne.py:780: FutureWarning: The default initialization in TSNE will change from 'random' to 'pca' in 1.2.\n",
            "  warnings.warn(\n",
            "/usr/local/lib/python3.8/dist-packages/sklearn/manifold/_t_sne.py:790: FutureWarning: The default learning rate in TSNE will change from 200.0 to 'auto' in 1.2.\n",
            "  warnings.warn(\n"
          ]
        },
        {
          "output_type": "error",
          "ename": "ValueError",
          "evalue": "ignored",
          "traceback": [
            "\u001b[0;31m---------------------------------------------------------------------------\u001b[0m",
            "\u001b[0;31mValueError\u001b[0m                                Traceback (most recent call last)",
            "\u001b[0;32m<ipython-input-32-98d8aac8d994>\u001b[0m in \u001b[0;36m<module>\u001b[0;34m\u001b[0m\n\u001b[1;32m     50\u001b[0m \u001b[0;31m# Visualize the validation set in 3D using t-SNE\u001b[0m\u001b[0;34m\u001b[0m\u001b[0;34m\u001b[0m\u001b[0;34m\u001b[0m\u001b[0m\n\u001b[1;32m     51\u001b[0m \u001b[0mtsne\u001b[0m \u001b[0;34m=\u001b[0m \u001b[0mTSNE\u001b[0m\u001b[0;34m(\u001b[0m\u001b[0mn_components\u001b[0m\u001b[0;34m=\u001b[0m\u001b[0;36m3\u001b[0m\u001b[0;34m)\u001b[0m\u001b[0;34m\u001b[0m\u001b[0;34m\u001b[0m\u001b[0m\n\u001b[0;32m---> 52\u001b[0;31m \u001b[0mfeatures_tsne\u001b[0m \u001b[0;34m=\u001b[0m \u001b[0mtsne\u001b[0m\u001b[0;34m.\u001b[0m\u001b[0mfit_transform\u001b[0m\u001b[0;34m(\u001b[0m\u001b[0mfeatures_val\u001b[0m\u001b[0;34m)\u001b[0m\u001b[0;34m\u001b[0m\u001b[0;34m\u001b[0m\u001b[0m\n\u001b[0m\u001b[1;32m     53\u001b[0m \u001b[0mfig\u001b[0m \u001b[0;34m=\u001b[0m \u001b[0mplt\u001b[0m\u001b[0;34m.\u001b[0m\u001b[0mfigure\u001b[0m\u001b[0;34m(\u001b[0m\u001b[0;34m)\u001b[0m\u001b[0;34m\u001b[0m\u001b[0;34m\u001b[0m\u001b[0m\n\u001b[1;32m     54\u001b[0m \u001b[0max\u001b[0m \u001b[0;34m=\u001b[0m \u001b[0mfig\u001b[0m\u001b[0;34m.\u001b[0m\u001b[0madd_subplot\u001b[0m\u001b[0;34m(\u001b[0m\u001b[0;36m111\u001b[0m\u001b[0;34m,\u001b[0m \u001b[0mprojection\u001b[0m\u001b[0;34m=\u001b[0m\u001b[0;34m'3d'\u001b[0m\u001b[0;34m)\u001b[0m\u001b[0;34m\u001b[0m\u001b[0;34m\u001b[0m\u001b[0m\n",
            "\u001b[0;32m/usr/local/lib/python3.8/dist-packages/sklearn/manifold/_t_sne.py\u001b[0m in \u001b[0;36mfit_transform\u001b[0;34m(self, X, y)\u001b[0m\n\u001b[1;32m   1106\u001b[0m             \u001b[0mEmbedding\u001b[0m \u001b[0mof\u001b[0m \u001b[0mthe\u001b[0m \u001b[0mtraining\u001b[0m \u001b[0mdata\u001b[0m \u001b[0;32min\u001b[0m \u001b[0mlow\u001b[0m\u001b[0;34m-\u001b[0m\u001b[0mdimensional\u001b[0m \u001b[0mspace\u001b[0m\u001b[0;34m.\u001b[0m\u001b[0;34m\u001b[0m\u001b[0;34m\u001b[0m\u001b[0m\n\u001b[1;32m   1107\u001b[0m         \"\"\"\n\u001b[0;32m-> 1108\u001b[0;31m         \u001b[0membedding\u001b[0m \u001b[0;34m=\u001b[0m \u001b[0mself\u001b[0m\u001b[0;34m.\u001b[0m\u001b[0m_fit\u001b[0m\u001b[0;34m(\u001b[0m\u001b[0mX\u001b[0m\u001b[0;34m)\u001b[0m\u001b[0;34m\u001b[0m\u001b[0;34m\u001b[0m\u001b[0m\n\u001b[0m\u001b[1;32m   1109\u001b[0m         \u001b[0mself\u001b[0m\u001b[0;34m.\u001b[0m\u001b[0membedding_\u001b[0m \u001b[0;34m=\u001b[0m \u001b[0membedding\u001b[0m\u001b[0;34m\u001b[0m\u001b[0;34m\u001b[0m\u001b[0m\n\u001b[1;32m   1110\u001b[0m         \u001b[0;32mreturn\u001b[0m \u001b[0mself\u001b[0m\u001b[0;34m.\u001b[0m\u001b[0membedding_\u001b[0m\u001b[0;34m\u001b[0m\u001b[0;34m\u001b[0m\u001b[0m\n",
            "\u001b[0;32m/usr/local/lib/python3.8/dist-packages/sklearn/manifold/_t_sne.py\u001b[0m in \u001b[0;36m_fit\u001b[0;34m(self, X, skip_num_points)\u001b[0m\n\u001b[1;32m    828\u001b[0m             )\n\u001b[1;32m    829\u001b[0m         \u001b[0;32mif\u001b[0m \u001b[0mself\u001b[0m\u001b[0;34m.\u001b[0m\u001b[0mmethod\u001b[0m \u001b[0;34m==\u001b[0m \u001b[0;34m\"barnes_hut\"\u001b[0m\u001b[0;34m:\u001b[0m\u001b[0;34m\u001b[0m\u001b[0;34m\u001b[0m\u001b[0m\n\u001b[0;32m--> 830\u001b[0;31m             X = self._validate_data(\n\u001b[0m\u001b[1;32m    831\u001b[0m                 \u001b[0mX\u001b[0m\u001b[0;34m,\u001b[0m\u001b[0;34m\u001b[0m\u001b[0;34m\u001b[0m\u001b[0m\n\u001b[1;32m    832\u001b[0m                 \u001b[0maccept_sparse\u001b[0m\u001b[0;34m=\u001b[0m\u001b[0;34m[\u001b[0m\u001b[0;34m\"csr\"\u001b[0m\u001b[0;34m]\u001b[0m\u001b[0;34m,\u001b[0m\u001b[0;34m\u001b[0m\u001b[0;34m\u001b[0m\u001b[0m\n",
            "\u001b[0;32m/usr/local/lib/python3.8/dist-packages/sklearn/base.py\u001b[0m in \u001b[0;36m_validate_data\u001b[0;34m(self, X, y, reset, validate_separately, **check_params)\u001b[0m\n\u001b[1;32m    564\u001b[0m             \u001b[0;32mraise\u001b[0m \u001b[0mValueError\u001b[0m\u001b[0;34m(\u001b[0m\u001b[0;34m\"Validation should be done on X, y or both.\"\u001b[0m\u001b[0;34m)\u001b[0m\u001b[0;34m\u001b[0m\u001b[0;34m\u001b[0m\u001b[0m\n\u001b[1;32m    565\u001b[0m         \u001b[0;32melif\u001b[0m \u001b[0;32mnot\u001b[0m \u001b[0mno_val_X\u001b[0m \u001b[0;32mand\u001b[0m \u001b[0mno_val_y\u001b[0m\u001b[0;34m:\u001b[0m\u001b[0;34m\u001b[0m\u001b[0;34m\u001b[0m\u001b[0m\n\u001b[0;32m--> 566\u001b[0;31m             \u001b[0mX\u001b[0m \u001b[0;34m=\u001b[0m \u001b[0mcheck_array\u001b[0m\u001b[0;34m(\u001b[0m\u001b[0mX\u001b[0m\u001b[0;34m,\u001b[0m \u001b[0;34m**\u001b[0m\u001b[0mcheck_params\u001b[0m\u001b[0;34m)\u001b[0m\u001b[0;34m\u001b[0m\u001b[0;34m\u001b[0m\u001b[0m\n\u001b[0m\u001b[1;32m    567\u001b[0m             \u001b[0mout\u001b[0m \u001b[0;34m=\u001b[0m \u001b[0mX\u001b[0m\u001b[0;34m\u001b[0m\u001b[0;34m\u001b[0m\u001b[0m\n\u001b[1;32m    568\u001b[0m         \u001b[0;32melif\u001b[0m \u001b[0mno_val_X\u001b[0m \u001b[0;32mand\u001b[0m \u001b[0;32mnot\u001b[0m \u001b[0mno_val_y\u001b[0m\u001b[0;34m:\u001b[0m\u001b[0;34m\u001b[0m\u001b[0;34m\u001b[0m\u001b[0m\n",
            "\u001b[0;32m/usr/local/lib/python3.8/dist-packages/sklearn/utils/validation.py\u001b[0m in \u001b[0;36mcheck_array\u001b[0;34m(array, accept_sparse, accept_large_sparse, dtype, order, copy, force_all_finite, ensure_2d, allow_nd, ensure_min_samples, ensure_min_features, estimator)\u001b[0m\n\u001b[1;32m    792\u001b[0m                 ) from e\n\u001b[1;32m    793\u001b[0m         \u001b[0;32mif\u001b[0m \u001b[0;32mnot\u001b[0m \u001b[0mallow_nd\u001b[0m \u001b[0;32mand\u001b[0m \u001b[0marray\u001b[0m\u001b[0;34m.\u001b[0m\u001b[0mndim\u001b[0m \u001b[0;34m>=\u001b[0m \u001b[0;36m3\u001b[0m\u001b[0;34m:\u001b[0m\u001b[0;34m\u001b[0m\u001b[0;34m\u001b[0m\u001b[0m\n\u001b[0;32m--> 794\u001b[0;31m             raise ValueError(\n\u001b[0m\u001b[1;32m    795\u001b[0m                 \u001b[0;34m\"Found array with dim %d. %s expected <= 2.\"\u001b[0m\u001b[0;34m\u001b[0m\u001b[0;34m\u001b[0m\u001b[0m\n\u001b[1;32m    796\u001b[0m                 \u001b[0;34m%\u001b[0m \u001b[0;34m(\u001b[0m\u001b[0marray\u001b[0m\u001b[0;34m.\u001b[0m\u001b[0mndim\u001b[0m\u001b[0;34m,\u001b[0m \u001b[0mestimator_name\u001b[0m\u001b[0;34m)\u001b[0m\u001b[0;34m\u001b[0m\u001b[0;34m\u001b[0m\u001b[0m\n",
            "\u001b[0;31mValueError\u001b[0m: Found array with dim 4. Estimator expected <= 2."
          ]
        }
      ]
    },
    {
      "cell_type": "code",
      "source": [
        "from sklearn.decomposition import PCA\n",
        "\n",
        "features_val = np.reshape(features_val, (features_val.shape[0], -1))\n",
        "pca = PCA(n_components=50)\n",
        "pca_features = pca.fit_transform(features_val)\n",
        "\n",
        "tsne = TSNE(n_components=3)\n",
        "tsne_features = tsne.fit_transform(pca_features)\n",
        "\n",
        "fig = plt.figure()\n",
        "ax = fig.add_subplot(111, projection='3d')\n",
        "ax.scatter(tsne_features[:, 0], tsne_features[:, 1], tsne_features[:, 2], c=labels_val)\n",
        "plt.show()"
      ],
      "metadata": {
        "colab": {
          "base_uri": "https://localhost:8080/",
          "height": 317
        },
        "id": "cJVM2pN1TGdL",
        "outputId": "0af4fd8e-6023-4e5b-8e72-4c40ae970191"
      },
      "execution_count": null,
      "outputs": [
        {
          "output_type": "stream",
          "name": "stderr",
          "text": [
            "/usr/local/lib/python3.8/dist-packages/sklearn/manifold/_t_sne.py:780: FutureWarning: The default initialization in TSNE will change from 'random' to 'pca' in 1.2.\n",
            "  warnings.warn(\n",
            "/usr/local/lib/python3.8/dist-packages/sklearn/manifold/_t_sne.py:790: FutureWarning: The default learning rate in TSNE will change from 200.0 to 'auto' in 1.2.\n",
            "  warnings.warn(\n"
          ]
        },
        {
          "output_type": "display_data",
          "data": {
            "text/plain": [
              "<Figure size 432x288 with 1 Axes>"
            ],
            "image/png": "[encoded data removed]"
          },
          "metadata": {
            "needs_background": "light"
          }
        }
      ]
    },
    {
      "cell_type": "markdown",
      "source": [
        "## 1.4.a"
      ],
      "metadata": {
        "id": "cftXoHtIy0Cj"
      }
    },
    {
      "cell_type": "markdown",
      "source": [
        "# Techniques used for Data Augmentation are Random Cropping, Random Erasing and Random Rotation."
      ],
      "metadata": {
        "id": "B9WyMkaSIiLF"
      }
    },
    {
      "cell_type": "markdown",
      "source": [
        "\n",
        "### Random Cropping"
      ],
      "metadata": {
        "id": "PztMiYUCy4nn"
      }
    },
    {
      "cell_type": "code",
      "source": [
        "def random_crop(img, sz):\n",
        "    # height, width = img.shape[:2]\n",
        "    h = img.shape[0]\n",
        "    w = img.shape[1]\n",
        "    ch, cw = sz\n",
        "\n",
        "    y = np.random.randint(0, h - ch + 1)\n",
        "    x = np.random.randint(0, w - cw + 1)\n",
        "\n",
        "    return img[y:y+ch, x:x+cw, :]\n"
      ],
      "metadata": {
        "id": "0vg3fAwQXq4o"
      },
      "execution_count": null,
      "outputs": []
    },
    {
      "cell_type": "code",
      "source": [
        "# Loading the dataset\n",
        "matrix = scipy.io.loadmat(path_data)\n",
        "\n",
        "# Extract images and labels\n",
        "images = matrix['X']\n",
        "labels = matrix['y']"
      ],
      "metadata": {
        "id": "gAR_jXQjpemG"
      },
      "execution_count": null,
      "outputs": []
    },
    {
      "cell_type": "code",
      "source": [
        "images = np.transpose(images, (3, 0, 1, 2))"
      ],
      "metadata": {
        "id": "XzL0LZq-ppxu"
      },
      "execution_count": null,
      "outputs": []
    },
    {
      "cell_type": "code",
      "source": [
        "print(images.shape)"
      ],
      "metadata": {
        "id": "yl6PQWl7orxq",
        "colab": {
          "base_uri": "https://localhost:8080/"
        },
        "outputId": "ce31c17c-506d-48b6-b2df-4eb489205fd6"
      },
      "execution_count": null,
      "outputs": [
        {
          "output_type": "stream",
          "name": "stdout",
          "text": [
            "(73257, 32, 32, 3)\n"
          ]
        }
      ]
    },
    {
      "cell_type": "code",
      "source": [
        "X_image = images\n",
        "\n",
        "for i in range(0, len(X_image), 150):\n",
        "    new_image = random_crop(X_image[i], (32, 32))\n",
        "    images = np.append(images, [new_image], axis=0)\n",
        "\n",
        "y_labels = labels\n",
        "\n",
        "for i in range(0, len(y_labels), 150):\n",
        "    labels = np.append(labels, [y_labels[i]], axis=0)"
      ],
      "metadata": {
        "id": "IFDxeAGWXvio"
      },
      "execution_count": null,
      "outputs": []
    },
    {
      "cell_type": "markdown",
      "source": [
        "## Random Erasing\n"
      ],
      "metadata": {
        "id": "fclrEp-08pqh"
      }
    },
    {
      "cell_type": "code",
      "source": [
        "def random_erasing(img):\n",
        "\n",
        "    if np.random.uniform() > 0.5:\n",
        "        return img\n",
        "\n",
        "    h = img.shape[0]\n",
        "    w = img.shape[1]\n",
        "    c = img.shape[2]\n",
        "\n",
        "    # h, w, c = img.shape\n",
        "    area = h * w\n",
        "\n",
        "    while True:\n",
        "        target_area = np.random.uniform(0.02, 0.4) * area\n",
        "        aspect_ratio = np.random.uniform(0.3, 3.3)\n",
        "        er_h = int(round(np.sqrt(target_area * aspect_ratio)))\n",
        "        er_w = int(round(np.sqrt(target_area / aspect_ratio)))\n",
        "        if er_h < h and er_w < w:\n",
        "            break\n",
        "\n",
        "    x1 = np.random.randint(0, h - er_h)\n",
        "    y1 = np.random.randint(0, w - er_w)\n",
        "\n",
        "    if c == 1:\n",
        "        img[x1:x1+er_h, y1:y1+er_w] = np.random.uniform(0, 1)\n",
        "    else:\n",
        "        for i in range(c):\n",
        "            img[x1:x1+er_h, y1:y1+er_w, i] = np.random.uniform(0, 1)\n",
        "\n",
        "    return img\n"
      ],
      "metadata": {
        "id": "mZsWxBhA81sR"
      },
      "execution_count": null,
      "outputs": []
    },
    {
      "cell_type": "code",
      "source": [
        "X_image = images\n",
        "\n",
        "for i in range(2000, len(X_image), 150):\n",
        "    aug_img = random_erasing(X_image[i])\n",
        "    images = np.append(images, [aug_img], axis=0)\n",
        "\n",
        "y_labels = labels\n",
        "\n",
        "for i in range(2000, len(y_labels), 150):\n",
        "    labels = np.append(labels, [y_labels[i]], axis=0)"
      ],
      "metadata": {
        "id": "ltAtBqzqEOag"
      },
      "execution_count": null,
      "outputs": []
    },
    {
      "cell_type": "markdown",
      "source": [
        "## Random Rotation"
      ],
      "metadata": {
        "id": "9WGnP1UCIZQa"
      }
    },
    {
      "cell_type": "code",
      "source": [
        "def random_rotation(img, angle_range=(-15, 15)):\n",
        "\n",
        "    # Generating a random rotation\n",
        "    angle = np.random.uniform(angle_range[0], angle_range[1])\n",
        "\n",
        "    # Image center\n",
        "    h, w = img.shape[:2]\n",
        "    cx, cy = w // 2, h // 2\n",
        "\n",
        "    # Rotation matrix\n",
        "    M = cv2.getRotationMatrix2D((cx, cy), angle, 1.0)\n",
        "\n",
        "    # Apply the rotation \n",
        "    rotated_img = cv2.warpAffine(img, M, (w, h), flags=cv2.INTER_LINEAR, borderMode=cv2.BORDER_REFLECT_101)\n",
        "\n",
        "    return rotated_img\n"
      ],
      "metadata": {
        "id": "7s2UEaPDHqKT"
      },
      "execution_count": null,
      "outputs": []
    },
    {
      "cell_type": "code",
      "source": [
        "X_image = images\n",
        "\n",
        "for i in range(2000, len(X_image), 150):\n",
        "    aug_img = random_rotation(X_image[i], angle_range=(-15, 15))\n",
        "    images = np.append(images, [aug_img], axis=0)\n",
        "\n",
        "\n",
        "y_labels = labels\n",
        "\n",
        "for i in range(2000, len(y_labels), 150):\n",
        "    labels = np.append(labels, [y_labels[i]], axis=0)\n"
      ],
      "metadata": {
        "id": "_d1EoVxTHrIi"
      },
      "execution_count": null,
      "outputs": []
    },
    {
      "cell_type": "markdown",
      "source": [
        "# Training the model again"
      ],
      "metadata": {
        "id": "Q5zoIXQXoqmK"
      }
    },
    {
      "cell_type": "code",
      "source": [
        "# Define the CNN_SVHN architecture\n",
        "model = CNN_SVHN()\n",
        "model = model.to(device)\n",
        "\n",
        "# Define the loss function\n",
        "criterion = nn.CrossEntropyLoss()\n",
        "\n",
        "# Define the optimizer\n",
        "optimizer = optim.SGD(model.parameters(), lr=0.001, momentum=0.9)\n",
        "\n",
        "# Define the data transform and loading\n",
        "transform = transforms.Compose([transforms.Resize((32,32)),\n",
        "                                transforms.ToTensor(),\n",
        "                                transforms.Normalize((0.5, 0.5, 0.5), (0.5, 0.5, 0.5))])\n",
        "\n",
        "trainset = datasets.SVHN(root='./data', split='train', download=True, transform=transform)\n",
        "testset = datasets.SVHN(root='./data', split='test', download=True, transform=transform)\n",
        "valset = datasets.SVHN(root='./data', split='extra', download=True, transform=transform)"
      ],
      "metadata": {
        "id": "C6jAMIuRHvbC",
        "colab": {
          "base_uri": "https://localhost:8080/"
        },
        "outputId": "33f54338-9ed9-4799-b565-4c335864f393"
      },
      "execution_count": null,
      "outputs": [
        {
          "output_type": "stream",
          "name": "stdout",
          "text": [
            "Using downloaded and verified file: ./data/train_32x32.mat\n",
            "Using downloaded and verified file: ./data/test_32x32.mat\n",
            "Using downloaded and verified file: ./data/extra_32x32.mat\n"
          ]
        }
      ]
    },
    {
      "cell_type": "markdown",
      "source": [
        "# Defining the dataloaders\n"
      ],
      "metadata": {
        "id": "yQGZxHVco27M"
      }
    },
    {
      "cell_type": "code",
      "source": [
        "trainloader = torch.utils.data.DataLoader(trainset, batch_size=32, shuffle=True)\n",
        "testloader = torch.utils.data.DataLoader(testset, batch_size=32, shuffle=False)\n",
        "valloader = torch.utils.data.DataLoader(valset, batch_size=32, shuffle=False)"
      ],
      "metadata": {
        "id": "Id6AYlUio6Un"
      },
      "execution_count": null,
      "outputs": []
    },
    {
      "cell_type": "code",
      "source": [
        "wandb.init(project=\"TrainingAgainWithDataAugmentation\")\n",
        "\n",
        "# Train the model\n",
        "for epoch in range(10):\n",
        "\n",
        "    # Training loss\n",
        "    train_loss = loss_calculator(model, trainloader)\n",
        "    wandb.log({'Training Loss': train_loss})\n",
        "    print(\"Training Loss: \", train_loss)\n",
        "\n",
        "    #Training accuracy\n",
        "    train_accuracy = accuracy_calculator(model, trainloader)\n",
        "    wandb.log({'Training Accuracy': train_accuracy})\n",
        "    print('Training Accuracy: {:.5f} %'.format(train_accuracy))\n",
        "\n",
        "    # Validation Loss\n",
        "    validation_loss = loss_calculator(model, valloader) # pass valloader\n",
        "    wandb.log({'Validation Loss': validation_loss})\n",
        "    print(\"Validation Loss: \", validation_loss)\n",
        "\n",
        "    # Validation accuracy\n",
        "    validation_accuracy = accuracy_calculator(model, valloader)\n",
        "    wandb.log({'Validation Accuracy': validation_accuracy})\n",
        "    print('Validation Accuracy: {:.5f} %'.format(validation_accuracy))\n",
        "\n",
        "    print(\"\\nEpochs completed: \", epoch+1)\n",
        "    print()\n",
        "\n",
        "print('Finished Training')"
      ],
      "metadata": {
        "colab": {
          "base_uri": "https://localhost:8080/",
          "height": 1000,
          "referenced_widgets": [
            "a7bf4741aa1149daa17bc3cd416696da",
            "8a351a642bec4c5cb2eaa67f32df99a1",
            "75eac6fbc4194b76986b5753d957af1a",
            "2d851ede69694a39a537a47354464fd7",
            "981a86c9bba34f1ebb0dff9a868966a9",
            "386ea21c81964d93b5a8416c32bd518c",
            "b89299e365a146f1be70c969bd2b77bd",
            "b7de5f20936e47708ac33cb149ed1af8"
          ]
        },
        "id": "eP1oStY3o7Zl",
        "outputId": "c8d30577-04c4-4843-dad4-4a2964c0c48e"
      },
      "execution_count": null,
      "outputs": [
        {
          "output_type": "display_data",
          "data": {
            "text/plain": [
              "<IPython.core.display.HTML object>"
            ],
            "text/html": [
              "Finishing last run (ID:b4s95085) before initializing another..."
            ]
          },
          "metadata": {}
        },
        {
          "output_type": "display_data",
          "data": {
            "text/plain": [
              "<IPython.core.display.HTML object>"
            ],
            "text/html": [
              "Waiting for W&B process to finish... <strong style=\"color:green\">(success).</strong>"
            ]
          },
          "metadata": {}
        },
        {
          "output_type": "display_data",
          "data": {
            "text/plain": [
              "VBox(children=(Label(value='0.001 MB of 0.008 MB uploaded (0.000 MB deduped)\\r'), FloatProgress(value=0.084100…"
            ],
            "application/vnd.jupyter.widget-view+json": {
              "version_major": 2,
              "version_minor": 0,
              "model_id": "a7bf4741aa1149daa17bc3cd416696da"
            }
          },
          "metadata": {}
        },
        {
          "output_type": "display_data",
          "data": {
            "text/plain": [
              "<IPython.core.display.HTML object>"
            ],
            "text/html": [
              "<style>\n",
              "    table.wandb td:nth-child(1) { padding: 0 10px; text-align: left ; width: auto;} td:nth-child(2) {text-align: left ; width: 100%}\n",
              "    .wandb-row { display: flex; flex-direction: row; flex-wrap: wrap; justify-content: flex-start; width: 100% }\n",
              "    .wandb-col { display: flex; flex-direction: column; flex-basis: 100%; flex: 1; padding: 10px; }\n",
              "    </style>\n",
              "<div class=\"wandb-row\"><div class=\"wandb-col\"><h3>Run history:</h3><br/><table class=\"wandb\"><tr><td>Training Loss</td><td>▁</td></tr></table><br/></div><div class=\"wandb-col\"><h3>Run summary:</h3><br/><table class=\"wandb\"><tr><td>Training Loss</td><td>2.06927</td></tr></table><br/></div></div>"
            ]
          },
          "metadata": {}
        },
        {
          "output_type": "display_data",
          "data": {
            "text/plain": [
              "<IPython.core.display.HTML object>"
            ],
            "text/html": [
              " View run <strong style=\"color:#cdcd00\">whole-snowflake-1</strong> at: <a href='https://wandb.ai/atif20523/TrainingAgainWithDataAugmentation/runs/b4s95085' target=\"_blank\">https://wandb.ai/atif20523/TrainingAgainWithDataAugmentation/runs/b4s95085</a><br/>Synced 5 W&B file(s), 0 media file(s), 0 artifact file(s) and 0 other file(s)"
            ]
          },
          "metadata": {}
        },
        {
          "output_type": "display_data",
          "data": {
            "text/plain": [
              "<IPython.core.display.HTML object>"
            ],
            "text/html": [
              "Find logs at: <code>./wandb/run-20230220_151429-b4s95085/logs</code>"
            ]
          },
          "metadata": {}
        },
        {
          "output_type": "display_data",
          "data": {
            "text/plain": [
              "<IPython.core.display.HTML object>"
            ],
            "text/html": [
              "Successfully finished last run (ID:b4s95085). Initializing new run:<br/>"
            ]
          },
          "metadata": {}
        },
        {
          "output_type": "display_data",
          "data": {
            "text/plain": [
              "<IPython.core.display.HTML object>"
            ],
            "text/html": [
              "Tracking run with wandb version 0.13.10"
            ]
          },
          "metadata": {}
        },
        {
          "output_type": "display_data",
          "data": {
            "text/plain": [
              "<IPython.core.display.HTML object>"
            ],
            "text/html": [
              "Run data is saved locally in <code>/content/wandb/run-20230220_151629-e65s74qv</code>"
            ]
          },
          "metadata": {}
        },
        {
          "output_type": "display_data",
          "data": {
            "text/plain": [
              "<IPython.core.display.HTML object>"
            ],
            "text/html": [
              "Syncing run <strong><a href='https://wandb.ai/atif20523/TrainingAgainWithDataAugmentation/runs/e65s74qv' target=\"_blank\">curious-breeze-2</a></strong> to <a href='https://wandb.ai/atif20523/TrainingAgainWithDataAugmentation' target=\"_blank\">Weights & Biases</a> (<a href='https://wandb.me/run' target=\"_blank\">docs</a>)<br/>"
            ]
          },
          "metadata": {}
        },
        {
          "output_type": "display_data",
          "data": {
            "text/plain": [
              "<IPython.core.display.HTML object>"
            ],
            "text/html": [
              " View project at <a href='https://wandb.ai/atif20523/TrainingAgainWithDataAugmentation' target=\"_blank\">https://wandb.ai/atif20523/TrainingAgainWithDataAugmentation</a>"
            ]
          },
          "metadata": {}
        },
        {
          "output_type": "display_data",
          "data": {
            "text/plain": [
              "<IPython.core.display.HTML object>"
            ],
            "text/html": [
              " View run at <a href='https://wandb.ai/atif20523/TrainingAgainWithDataAugmentation/runs/e65s74qv' target=\"_blank\">https://wandb.ai/atif20523/TrainingAgainWithDataAugmentation/runs/e65s74qv</a>"
            ]
          },
          "metadata": {}
        },
        {
          "output_type": "stream",
          "name": "stdout",
          "text": [
            "Training Loss:  1.9182365441947005\n",
            "Training Accuracy: 68.29518 %\n",
            "Validation Loss:  0.37964457994189366\n",
            "Validation Accuracy: 92.58111 %\n",
            "\n",
            "Epochs completed:  1\n",
            "\n",
            "Training Loss:  0.5387102104170354\n",
            "Training Accuracy: 86.54463 %\n",
            "Validation Loss:  0.2640455860024221\n",
            "Validation Accuracy: 93.95686 %\n",
            "\n",
            "Epochs completed:  2\n",
            "\n",
            "Training Loss:  0.47364869610646404\n",
            "Training Accuracy: 88.25368 %\n",
            "Validation Loss:  0.2296569794627824\n",
            "Validation Accuracy: 94.53261 %\n",
            "\n",
            "Epochs completed:  3\n",
            "\n",
            "Training Loss:  0.4385226310389401\n",
            "Training Accuracy: 89.22151 %\n",
            "Validation Loss:  0.20869732326500257\n",
            "Validation Accuracy: 94.90163 %\n",
            "\n",
            "Epochs completed:  4\n",
            "\n",
            "Training Loss:  0.41065535854434343\n",
            "Training Accuracy: 89.93816 %\n",
            "Validation Loss:  0.19330895550557925\n",
            "Validation Accuracy: 95.19008 %\n",
            "\n",
            "Epochs completed:  5\n",
            "\n",
            "Training Loss:  0.38848469275086467\n",
            "Training Accuracy: 90.07057 %\n",
            "Validation Loss:  0.18104556860970317\n",
            "Validation Accuracy: 95.42900 %\n",
            "\n",
            "Epochs completed:  6\n",
            "\n",
            "Training Loss:  0.3715506811459512\n",
            "Training Accuracy: 90.60568 %\n",
            "Validation Loss:  0.17135096308431147\n",
            "Validation Accuracy: 95.59807 %\n",
            "\n",
            "Epochs completed:  7\n",
            "\n",
            "Training Loss:  0.35808091455802127\n",
            "Training Accuracy: 90.92646 %\n",
            "Validation Loss:  0.16376827320232024\n",
            "Validation Accuracy: 95.73043 %\n",
            "\n",
            "Epochs completed:  8\n",
            "\n",
            "Training Loss:  0.3472035496597337\n",
            "Training Accuracy: 91.18037 %\n",
            "Validation Loss:  0.15756350199670546\n",
            "Validation Accuracy: 95.86354 %\n",
            "\n",
            "Epochs completed:  9\n",
            "\n",
            "Training Loss:  0.3380486862799031\n",
            "Training Accuracy: 91.13668 %\n",
            "Validation Loss:  0.1523055590995672\n",
            "Validation Accuracy: 95.97839 %\n",
            "\n",
            "Epochs completed:  10\n",
            "\n",
            "Finished Training\n"
          ]
        }
      ]
    },
    {
      "cell_type": "markdown",
      "source": [
        "# Reporting the accuracy and F1-score"
      ],
      "metadata": {
        "id": "Y3TcuoK7pZHR"
      }
    },
    {
      "cell_type": "code",
      "source": [
        "from sklearn.metrics import confusion_matrix, f1_score\n",
        "\n",
        "wandb.init(project=\"accuracy-f1score-lastmodel\")\n",
        "# Define the confusion matrix\n",
        "def plot_confusion_matrix(conf_matrix):\n",
        "    conf_matrix = conf_matrix.astype('float') / conf_matrix.sum(axis=1)[:, np.newaxis]\n",
        "    print(conf_matrix)\n",
        "    wandb.log({'Confusion Matrix': wandb.Image(conf_matrix, caption='Confusion Matrix')})\n",
        "\n",
        "correct = 0\n",
        "total = 0\n",
        "conf_matrix = np.zeros((10,10))\n",
        "\n",
        "with torch.no_grad():\n",
        "    for data in testloader:\n",
        "        images, labels = data\n",
        "        images = images.to(device)\n",
        "        labels = labels.to(device)\n",
        "        outputs = model(images)\n",
        "        _, predicted = torch.max(outputs.data, 1)\n",
        "        total += labels.size(0)\n",
        "        correct += (predicted == labels).sum().item()\n",
        "        conf_matrix += confusion_matrix(labels.detach().cpu().numpy(), predicted.detach().cpu().numpy(), labels=list(range(10)))\n",
        "\n",
        "accuracy = 100 * correct / total\n",
        "f1 = f1_score(labels.detach().cpu().numpy(), predicted.detach().cpu().numpy(), average='weighted')\n",
        "\n",
        "# Log the Accuracy, F1-Score and Confusion Matrix\n",
        "wandb.log({'Test Accuracy': accuracy, 'Test F1-Score': f1})\n",
        "\n",
        "plot_confusion_matrix(conf_matrix)\n",
        "\n",
        "print('Test Accuracy: {:.5f}%'.format(accuracy))\n",
        "print('Test F1-Score: {:.2f}'.format(f1))"
      ],
      "metadata": {
        "colab": {
          "base_uri": "https://localhost:8080/",
          "height": 896,
          "referenced_widgets": [
            "5ba3e246edfb41db89a18a1a858c2540",
            "8005e8e766f84f73bf7cffb4d81c0327",
            "f32e51c6e6e54ebd967e71aef7e01ea3",
            "83fc060217e547839326fcee38cc9261",
            "28294cdc6617466e9b62ba257d7cd8f5",
            "a399d8e27bfa405bb5b8983d1ebc4a52",
            "553e0d49f31e4d7a88a077b5e4f12776",
            "2e4b67fc45b449b99831ce0d79e2b01b"
          ]
        },
        "id": "QDQuw-lgpYRQ",
        "outputId": "ce0d635d-7767-4317-c055-1e7829cf5452"
      },
      "execution_count": null,
      "outputs": [
        {
          "output_type": "display_data",
          "data": {
            "text/plain": [
              "<IPython.core.display.HTML object>"
            ],
            "text/html": [
              "Finishing last run (ID:e65s74qv) before initializing another..."
            ]
          },
          "metadata": {}
        },
        {
          "output_type": "display_data",
          "data": {
            "text/plain": [
              "<IPython.core.display.HTML object>"
            ],
            "text/html": [
              "Waiting for W&B process to finish... <strong style=\"color:green\">(success).</strong>"
            ]
          },
          "metadata": {}
        },
        {
          "output_type": "display_data",
          "data": {
            "text/plain": [
              "VBox(children=(Label(value='0.001 MB of 0.001 MB uploaded (0.000 MB deduped)\\r'), FloatProgress(value=1.0, max…"
            ],
            "application/vnd.jupyter.widget-view+json": {
              "version_major": 2,
              "version_minor": 0,
              "model_id": "5ba3e246edfb41db89a18a1a858c2540"
            }
          },
          "metadata": {}
        },
        {
          "output_type": "display_data",
          "data": {
            "text/plain": [
              "<IPython.core.display.HTML object>"
            ],
            "text/html": [
              "<style>\n",
              "    table.wandb td:nth-child(1) { padding: 0 10px; text-align: left ; width: auto;} td:nth-child(2) {text-align: left ; width: 100%}\n",
              "    .wandb-row { display: flex; flex-direction: row; flex-wrap: wrap; justify-content: flex-start; width: 100% }\n",
              "    .wandb-col { display: flex; flex-direction: column; flex-basis: 100%; flex: 1; padding: 10px; }\n",
              "    </style>\n",
              "<div class=\"wandb-row\"><div class=\"wandb-col\"><h3>Run history:</h3><br/><table class=\"wandb\"><tr><td>Training Accuracy</td><td>▁▇▇▇██████</td></tr><tr><td>Training Loss</td><td>█▂▂▁▁▁▁▁▁▁</td></tr><tr><td>Validation Accuracy</td><td>▁▄▅▆▆▇▇▇██</td></tr><tr><td>Validation Loss</td><td>█▄▃▃▂▂▂▁▁▁</td></tr></table><br/></div><div class=\"wandb-col\"><h3>Run summary:</h3><br/><table class=\"wandb\"><tr><td>Training Accuracy</td><td>91.13668</td></tr><tr><td>Training Loss</td><td>0.33805</td></tr><tr><td>Validation Accuracy</td><td>95.97839</td></tr><tr><td>Validation Loss</td><td>0.15231</td></tr></table><br/></div></div>"
            ]
          },
          "metadata": {}
        },
        {
          "output_type": "display_data",
          "data": {
            "text/plain": [
              "<IPython.core.display.HTML object>"
            ],
            "text/html": [
              " View run <strong style=\"color:#cdcd00\">curious-breeze-2</strong> at: <a href='https://wandb.ai/atif20523/TrainingAgainWithDataAugmentation/runs/e65s74qv' target=\"_blank\">https://wandb.ai/atif20523/TrainingAgainWithDataAugmentation/runs/e65s74qv</a><br/>Synced 5 W&B file(s), 0 media file(s), 0 artifact file(s) and 0 other file(s)"
            ]
          },
          "metadata": {}
        },
        {
          "output_type": "display_data",
          "data": {
            "text/plain": [
              "<IPython.core.display.HTML object>"
            ],
            "text/html": [
              "Find logs at: <code>./wandb/run-20230220_151629-e65s74qv/logs</code>"
            ]
          },
          "metadata": {}
        },
        {
          "output_type": "display_data",
          "data": {
            "text/plain": [
              "<IPython.core.display.HTML object>"
            ],
            "text/html": [
              "Successfully finished last run (ID:e65s74qv). Initializing new run:<br/>"
            ]
          },
          "metadata": {}
        },
        {
          "output_type": "display_data",
          "data": {
            "text/plain": [
              "<IPython.core.display.HTML object>"
            ],
            "text/html": [
              "Tracking run with wandb version 0.13.10"
            ]
          },
          "metadata": {}
        },
        {
          "output_type": "display_data",
          "data": {
            "text/plain": [
              "<IPython.core.display.HTML object>"
            ],
            "text/html": [
              "Run data is saved locally in <code>/content/wandb/run-20230220_162113-h13hch9h</code>"
            ]
          },
          "metadata": {}
        },
        {
          "output_type": "display_data",
          "data": {
            "text/plain": [
              "<IPython.core.display.HTML object>"
            ],
            "text/html": [
              "Syncing run <strong><a href='https://wandb.ai/atif20523/accuracy-f1score-lastmodel/runs/h13hch9h' target=\"_blank\">fallen-paper-1</a></strong> to <a href='https://wandb.ai/atif20523/accuracy-f1score-lastmodel' target=\"_blank\">Weights & Biases</a> (<a href='https://wandb.me/run' target=\"_blank\">docs</a>)<br/>"
            ]
          },
          "metadata": {}
        },
        {
          "output_type": "display_data",
          "data": {
            "text/plain": [
              "<IPython.core.display.HTML object>"
            ],
            "text/html": [
              " View project at <a href='https://wandb.ai/atif20523/accuracy-f1score-lastmodel' target=\"_blank\">https://wandb.ai/atif20523/accuracy-f1score-lastmodel</a>"
            ]
          },
          "metadata": {}
        },
        {
          "output_type": "display_data",
          "data": {
            "text/plain": [
              "<IPython.core.display.HTML object>"
            ],
            "text/html": [
              " View run at <a href='https://wandb.ai/atif20523/accuracy-f1score-lastmodel/runs/h13hch9h' target=\"_blank\">https://wandb.ai/atif20523/accuracy-f1score-lastmodel/runs/h13hch9h</a>"
            ]
          },
          "metadata": {}
        },
        {
          "output_type": "stream",
          "name": "stdout",
          "text": [
            "[[0.89220183 0.00630734 0.01834862 0.01261468 0.00401376 0.00401376\n",
            "  0.02178899 0.00401376 0.02236239 0.01433486]\n",
            " [0.01196313 0.90370661 0.0127476  0.015101   0.02373014 0.00451069\n",
            "  0.00392234 0.01313983 0.00804079 0.00313787]\n",
            " [0.00168715 0.00578453 0.9351651  0.02265606 0.0077127  0.00482044\n",
            "  0.00313329 0.00530248 0.00747168 0.00626657]\n",
            " [0.00208189 0.00693963 0.01873699 0.89382373 0.00277585 0.02290076\n",
            "  0.00624566 0.00312283 0.03018737 0.01318529]\n",
            " [0.00396354 0.01545779 0.01268331 0.01585414 0.92072929 0.00317083\n",
            "  0.00871978 0.00396354 0.00832342 0.00713436]\n",
            " [0.00251678 0.00671141 0.00838926 0.0432047  0.00629195 0.89387584\n",
            "  0.01300336 0.00251678 0.01216443 0.0113255 ]\n",
            " [0.01264542 0.01365706 0.00708144 0.02377339 0.01416287 0.03793627\n",
            "  0.84167931 0.0030349  0.03743045 0.00859889]\n",
            " [0.00643883 0.02625062 0.0277365  0.01733531 0.00495295 0.00643883\n",
            "  0.00495295 0.89202576 0.00495295 0.0089153 ]\n",
            " [0.0060241  0.00481928 0.00542169 0.03975904 0.00903614 0.01746988\n",
            "  0.01686747 0.00120482 0.88072289 0.0186747 ]\n",
            " [0.01567398 0.00250784 0.04137931 0.01880878 0.01003135 0.01504702\n",
            "  0.00438871 0.00376176 0.01880878 0.86959248]]\n",
            "Test Accuracy: 89.84327%\n",
            "Test F1-Score: 0.92\n"
          ]
        }
      ]
    }
  ]
}